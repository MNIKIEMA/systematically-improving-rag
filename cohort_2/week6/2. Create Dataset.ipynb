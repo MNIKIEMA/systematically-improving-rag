{
 "cells": [
  {
   "cell_type": "code",
   "execution_count": 6,
   "metadata": {},
   "outputs": [],
   "source": [
    "%load_ext autoreload\n",
    "%autoreload 2"
   ]
  },
  {
   "cell_type": "markdown",
   "metadata": {},
   "source": [
    "# Week 6 - Systematically Improving Your Rag Application\n",
    "\n",
    "> If you haven't already, please run the [1. Evaluate Tools](1. Evaluate Tools.ipynb) notebook to understand how to evaluate your application's tool calling capabilities. That will help you understand what we're doing here in this notebook.\n",
    "\n",
    "## Generating Synthetic Data\n",
    "\n",
    "We want to evaluate the recall of our application's tool calling capabilities. \n",
    "\n",
    "To do so, we'll generate a synthetic dataset of queries using a small subset of Raycast's extensions. Similar to our previous notebook, we'll use a `.yaml` file to store the extensions we support so that it's easy to add or remove extensions from our function calls.\n",
    "\n",
    "We'll do so in 3 steps\n",
    "\n",
    "1. **Extracting Commands** : We'll first start by extracting out a list of commands from a short list of raycast extensions before writing them to a yaml file.\n",
    "2. **Generating Queries** : We'll then generate some synthetic queries for each of these commands\n",
    "3. **Benchmark** : Lastly, we'll benchmark our application's tool calling capabilities against this dataset and measure the precision and recall of our application for these queries to get an initial baseline.\n",
    "\n",
    "# Creating Our Dataset\n",
    "\n",
    "## Extracting Commands\n",
    "\n",
    "Luckily for us, Raycast exposes the commands for each extension in a package.json file that we can download. These have the following structure\n",
    "\n",
    "```json\n",
    "{\n",
    "    \"name\": \"google-search\",\n",
    "    \"title\": \"Google Search\",\n",
    "    \"description\": \"Google search with autosuggestions\",\n",
    "    \"commands\":[\n",
    "        {\n",
    "            \"name\": \"index\",\n",
    "            \"title\": \"Google Search\",\n",
    "            \"description\": \"Google search with autosuggestions\",\n",
    "            \"mode\": \"view\"\n",
    "        },\n",
    "        // ... other commands go here\n",
    "    ],\n",
    "    // ... other metadata goes here\n",
    "}\n",
    "```\n",
    "\n",
    "We'll take these commands and parse them into a structured yaml file that will be in the following format\n",
    "\n",
    "```\n",
    "commands:\n",
    "    - extension_name: 'google-search'\n",
    "      command_name: 'index'\n",
    "      command_description: 'Google search with autosuggestions'\n",
    "      plugin_description: 'Google search with autosuggestions'\n",
    "```\n",
    "\n",
    "which makes it easy for us to read it in and use it to make a function call.\n"
   ]
  },
  {
   "cell_type": "code",
   "execution_count": 2,
   "metadata": {},
   "outputs": [],
   "source": [
    "VOICE_COMMAND_EXTENSIONS = [\n",
    "    \"google-search\",\n",
    "    \"jira-search\",\n",
    "    \"notion\",\n",
    "    \"apple-notes\",\n",
    "    \"obsidian\",\n",
    "    \"calendar\",\n",
    "    \"wikipedia\",\n",
    "    \"youtube\",\n",
    "    \"amazon-search\",\n",
    "    \"reddit-search\",\n",
    "    \"spotify-player\",\n",
    "    \"1password\",\n",
    "]"
   ]
  },
  {
   "cell_type": "code",
   "execution_count": 5,
   "metadata": {},
   "outputs": [],
   "source": [
    "import os\n",
    "import requests\n",
    "import json\n",
    "\n",
    "\n",
    "def ensure_directory(directory: str):\n",
    "    \"\"\"Ensure the given directory exists.\"\"\"\n",
    "    if not os.path.exists(directory):\n",
    "        os.makedirs(directory)\n",
    "\n",
    "\n",
    "def fetch_package_json(extension_name: str) -> str:\n",
    "    \"\"\"Generate the URL to fetch the package.json of the extension.\"\"\"\n",
    "    return f\"https://raw.githubusercontent.com/raycast/extensions/main/extensions/{extension_name}/package.json\"\n",
    "\n",
    "\n",
    "def get_commands(extension_name: str) -> bool:\n",
    "    \"\"\"Download the package.json for a specific extension and convert to YAML.\"\"\"\n",
    "    url = fetch_package_json(extension_name)\n",
    "    response = requests.get(url)\n",
    "    if response.status_code == 200:\n",
    "        # Parse JSON response\n",
    "        package_data = response.json()\n",
    "\n",
    "        # Extract commands and format for YAML\n",
    "        commands = []\n",
    "        for command in package_data.get(\"commands\", []):\n",
    "            commands.append(\n",
    "                {\n",
    "                    \"extension_name\": extension_name,\n",
    "                    \"command_name\": command[\"name\"],\n",
    "                    \"command_description\": command.get(\n",
    "                        \"description\", \"No description provided\"\n",
    "                    ),\n",
    "                    \"plugin_description\": package_data.get(\n",
    "                        \"description\", \"No description provided\"\n",
    "                    ),\n",
    "                }\n",
    "            )\n",
    "\n",
    "        return commands\n",
    "    else:\n",
    "        print(f\"Failed to download package.json for {extension_name}\")\n",
    "        return False\n"
   ]
  },
  {
   "cell_type": "markdown",
   "metadata": {},
   "source": [
    "We can then extract the commands from the `package.json` files and download them into a single `json` file that we can use to generate our synthetic dataset."
   ]
  },
  {
   "cell_type": "code",
   "execution_count": 47,
   "metadata": {},
   "outputs": [],
   "source": [
    "import yaml\n",
    "\n",
    "# Get commands for each extension and flatten the list\n",
    "commands = []\n",
    "for extension in VOICE_COMMAND_EXTENSIONS:\n",
    "    extension_commands = get_commands(extension)\n",
    "    if extension_commands:\n",
    "        commands.extend(extension_commands)\n",
    "\n",
    "# Write commands to YAML file\n",
    "ensure_directory(\"data\")\n",
    "with open(\"./commands.yaml\", \"w\") as f:\n",
    "    yaml.dump(\n",
    "        {\"commands\": commands}, f, indent=4, default_flow_style=False, sort_keys=False\n",
    "    )\n"
   ]
  },
  {
   "cell_type": "markdown",
   "metadata": {},
   "source": [
    "## Generating Queries\n",
    "\n",
    "We'll first measure the recall of our application's tool calling capabilities for a single command using `gpt-4o` and see how our application performs then.\n",
    "\n",
    "Once we've done so, we'll move on to combining different query commands together to see how our recall and precision change with more complex queries."
   ]
  },
  {
   "cell_type": "code",
   "execution_count": 13,
   "metadata": {},
   "outputs": [
    {
     "data": {
      "text/plain": [
       "{'extension_name': 'google-search',\n",
       " 'command_name': 'index',\n",
       " 'command_description': 'Google search with autosuggestions',\n",
       " 'plugin_description': 'Google search with autosuggestions'}"
      ]
     },
     "execution_count": 13,
     "metadata": {},
     "output_type": "execute_result"
    }
   ],
   "source": [
    "with open(\"./commands.yaml\", \"r\") as f:\n",
    "    commands = yaml.load(f, Loader=yaml.FullLoader)[\"commands\"]\n",
    "\n",
    "commands[0]"
   ]
  },
  {
   "cell_type": "code",
   "execution_count": 43,
   "metadata": {},
   "outputs": [
    {
     "data": {
      "text/html": [
       "<pre style=\"white-space:pre;overflow-x:auto;line-height:normal;font-family:Menlo,'DejaVu Sans Mono',consolas,'Courier New',monospace\"><span style=\"color: #800080; text-decoration-color: #800080; font-weight: bold\">Query</span><span style=\"font-weight: bold\">(</span>\n",
       "    <span style=\"color: #808000; text-decoration-color: #808000\">chain_of_thought</span>=<span style=\"color: #008000; text-decoration-color: #008000\">'Since the extension provides Google search with autosuggestions, I will ask the user for the </span>\n",
       "<span style=\"color: #008000; text-decoration-color: #008000\">details and perform the search.'</span>,\n",
       "    <span style=\"color: #808000; text-decoration-color: #808000\">user_query</span>=<span style=\"color: #008000; text-decoration-color: #008000\">'Could you look up information on the benefits of meditation?'</span>\n",
       "<span style=\"font-weight: bold\">)</span>\n",
       "</pre>\n"
      ],
      "text/plain": [
       "\u001b[1;35mQuery\u001b[0m\u001b[1m(\u001b[0m\n",
       "    \u001b[33mchain_of_thought\u001b[0m=\u001b[32m'Since the extension provides Google search with autosuggestions, I will ask the user for the \u001b[0m\n",
       "\u001b[32mdetails and perform the search.'\u001b[0m,\n",
       "    \u001b[33muser_query\u001b[0m=\u001b[32m'Could you look up information on the benefits of meditation?'\u001b[0m\n",
       "\u001b[1m)\u001b[0m\n"
      ]
     },
     "metadata": {},
     "output_type": "display_data"
    }
   ],
   "source": [
    "from pydantic import BaseModel\n",
    "import openai\n",
    "import instructor\n",
    "from rich import print\n",
    "from asyncio import Semaphore\n",
    "\n",
    "\n",
    "class Query(BaseModel):\n",
    "    chain_of_thought: str\n",
    "    user_query: str\n",
    "\n",
    "\n",
    "async def generate_query(\n",
    "    client: instructor.AsyncInstructor, sem: Semaphore, command: str\n",
    ") -> Query:\n",
    "    async with sem:\n",
    "        return await client.chat.completions.create(\n",
    "            model=\"gpt-4o\",\n",
    "            messages=[\n",
    "                {\n",
    "                    \"role\": \"system\",\n",
    "                    \"content\": \"You're going to be given some informaton about a command that an extension provides. Read the information carefully and then generate a message that a user would ask to execute the specific extension. Good examples (eg. Can you help me to find a restaurant that can seat 10 pax in Taipei?). Try to avoid using the command or extension name in the message.\",\n",
    "                },\n",
    "                {\n",
    "                    \"role\": \"user\",\n",
    "                    \"content\": f\"Here is the information about the command provided by the extension: {command}\",\n",
    "                },\n",
    "            ],\n",
    "            response_model=Query,\n",
    "        )\n",
    "\n",
    "\n",
    "sem = Semaphore(1)\n",
    "print(\n",
    "    await generate_query(instructor.from_openai(openai.AsyncOpenAI()), sem, commands[0])\n",
    ")"
   ]
  },
  {
   "cell_type": "markdown",
   "metadata": {},
   "source": [
    "Let's now generate a list of these commands for each of our extensions."
   ]
  },
  {
   "cell_type": "code",
   "execution_count": 44,
   "metadata": {},
   "outputs": [
    {
     "name": "stderr",
     "output_type": "stream",
     "text": [
      "100%|██████████| 7/7 [00:01<00:00,  3.93it/s]\n"
     ]
    }
   ],
   "source": [
    "from tqdm.asyncio import tqdm_asyncio as asyncio\n",
    "\n",
    "\n",
    "sem = Semaphore(10)\n",
    "coros = [\n",
    "    generate_query(instructor.from_openai(openai.AsyncOpenAI()), sem, command)\n",
    "    for command in commands\n",
    "]\n",
    "\n",
    "queries = await asyncio.gather(*coros)"
   ]
  },
  {
   "cell_type": "code",
   "execution_count": 59,
   "metadata": {},
   "outputs": [],
   "source": [
    "from pydantic import BaseModel, ValidationInfo, model_validator\n",
    "\n",
    "\n",
    "class Command(BaseModel):\n",
    "    command: str\n",
    "    extension: list[str]\n",
    "    arguments: list[str]\n",
    "\n",
    "    @model_validator(mode=\"after\")\n",
    "    def validate_arguments(self, info: ValidationInfo) -> \"Command\":\n",
    "        context = info.context\n",
    "        extension_commands = context[\"extension_commands\"]\n",
    "\n",
    "        if self.extension not in extension_commands:\n",
    "            raise ValueError(\n",
    "                f\"Extension {self.extension} not found in any of the provided extensions\"\n",
    "            )\n",
    "\n",
    "        if self.command not in extension_commands[self.extension]:\n",
    "            raise ValueError(f\"Command {self.command} not found for {self.extension}\")\n",
    "\n",
    "        return self\n",
    "\n",
    "\n",
    "class ExecutionPlan(BaseModel):\n",
    "    chain_of_thought: str\n",
    "    commands: list[Command]"
   ]
  },
  {
   "cell_type": "code",
   "execution_count": 54,
   "metadata": {},
   "outputs": [],
   "source": [
    "extension_commands = {}\n",
    "\n",
    "for command in commands:\n",
    "    if command[\"extension_name\"] not in extension_commands:\n",
    "        extension_commands[command[\"extension_name\"]] = {}\n",
    "    if command[\"command_name\"] in extension_commands[command[\"extension_name\"]]:\n",
    "        raise ValueError(\n",
    "            f\"Command {command['command_name']} already exists for {command['extension_name']}\"\n",
    "        )\n",
    "    extension_commands[command[\"extension_name\"]][command[\"command_name\"]] = command"
   ]
  },
  {
   "cell_type": "code",
   "execution_count": 55,
   "metadata": {},
   "outputs": [],
   "source": [
    "async def generate_execution_plan(\n",
    "    client: instructor.AsyncInstructor, sem: Semaphore, query: str\n",
    ") -> ExecutionPlan:\n",
    "    async with sem:\n",
    "        return await client.chat.completions.create(\n",
    "            model=\"gpt-4o\",\n",
    "            messages=[\n",
    "                {\n",
    "                    \"role\": \"system\",\n",
    "                    \"content\": \"\"\"\n",
    "                    You're an intelligent assistant that has access to a given list of commands that can be executed from an extension.\n",
    "\n",
    "                    Your job is to decide on the commands that will be executed in response to a user's query.\n",
    "\n",
    "                    Here are the extensions and commands that you have access to:\n",
    "                    {% for extension in extension_commands %}\n",
    "                    {% for extension_command in extension_commands[extension] %}\n",
    "                    - {{ extension }}.{{ extension_command }} : {{ extension_commands[extension][extension_command] }}\n",
    "                    {% endfor %}\n",
    "                    {% endfor %}\n",
    "\n",
    "                    The user's query is: {{ query }}\n",
    "                    \"\"\",\n",
    "                }\n",
    "            ],\n",
    "            context={\"extension_commands\": extension_commands, \"query\": query},\n",
    "            response_model=ExecutionPlan,\n",
    "        )"
   ]
  },
  {
   "cell_type": "code",
   "execution_count": 58,
   "metadata": {},
   "outputs": [
    {
     "ename": "InstructorRetryException",
     "evalue": "'commands'",
     "output_type": "error",
     "traceback": [
      "\u001b[0;31m---------------------------------------------------------------------------\u001b[0m",
      "\u001b[0;31mKeyError\u001b[0m                                  Traceback (most recent call last)",
      "File \u001b[0;32m~/Documents/coding/systematically-improving-rag/cohort_2/week6/.venv/lib/python3.12/site-packages/instructor/retry.py:228\u001b[0m, in \u001b[0;36mretry_async\u001b[0;34m(func, response_model, args, kwargs, context, max_retries, strict, mode, hooks)\u001b[0m\n\u001b[1;32m    224\u001b[0m     response \u001b[38;5;241m=\u001b[39m update_total_usage(\n\u001b[1;32m    225\u001b[0m         response\u001b[38;5;241m=\u001b[39mresponse, total_usage\u001b[38;5;241m=\u001b[39mtotal_usage\n\u001b[1;32m    226\u001b[0m     )\n\u001b[0;32m--> 228\u001b[0m     \u001b[38;5;28;01mreturn\u001b[39;00m \u001b[38;5;28;01mawait\u001b[39;00m process_response_async(\n\u001b[1;32m    229\u001b[0m         response\u001b[38;5;241m=\u001b[39mresponse,\n\u001b[1;32m    230\u001b[0m         response_model\u001b[38;5;241m=\u001b[39mresponse_model,\n\u001b[1;32m    231\u001b[0m         validation_context\u001b[38;5;241m=\u001b[39mcontext,\n\u001b[1;32m    232\u001b[0m         strict\u001b[38;5;241m=\u001b[39mstrict,\n\u001b[1;32m    233\u001b[0m         mode\u001b[38;5;241m=\u001b[39mmode,\n\u001b[1;32m    234\u001b[0m         stream\u001b[38;5;241m=\u001b[39mkwargs\u001b[38;5;241m.\u001b[39mget(\u001b[38;5;124m\"\u001b[39m\u001b[38;5;124mstream\u001b[39m\u001b[38;5;124m\"\u001b[39m, \u001b[38;5;28;01mFalse\u001b[39;00m),\n\u001b[1;32m    235\u001b[0m     )\n\u001b[1;32m    236\u001b[0m \u001b[38;5;28;01mexcept\u001b[39;00m (ValidationError, JSONDecodeError, AsyncValidationError) \u001b[38;5;28;01mas\u001b[39;00m e:\n",
      "File \u001b[0;32m~/Documents/coding/systematically-improving-rag/cohort_2/week6/.venv/lib/python3.12/site-packages/instructor/process_response.py:82\u001b[0m, in \u001b[0;36mprocess_response_async\u001b[0;34m(response, response_model, stream, validation_context, strict, mode)\u001b[0m\n\u001b[1;32m     80\u001b[0m     \u001b[38;5;28;01mreturn\u001b[39;00m model\n\u001b[0;32m---> 82\u001b[0m model \u001b[38;5;241m=\u001b[39m \u001b[43mresponse_model\u001b[49m\u001b[38;5;241;43m.\u001b[39;49m\u001b[43mfrom_response\u001b[49m\u001b[43m(\u001b[49m\n\u001b[1;32m     83\u001b[0m \u001b[43m    \u001b[49m\u001b[43mresponse\u001b[49m\u001b[43m,\u001b[49m\n\u001b[1;32m     84\u001b[0m \u001b[43m    \u001b[49m\u001b[43mvalidation_context\u001b[49m\u001b[38;5;241;43m=\u001b[39;49m\u001b[43mvalidation_context\u001b[49m\u001b[43m,\u001b[49m\n\u001b[1;32m     85\u001b[0m \u001b[43m    \u001b[49m\u001b[43mstrict\u001b[49m\u001b[38;5;241;43m=\u001b[39;49m\u001b[43mstrict\u001b[49m\u001b[43m,\u001b[49m\n\u001b[1;32m     86\u001b[0m \u001b[43m    \u001b[49m\u001b[43mmode\u001b[49m\u001b[38;5;241;43m=\u001b[39;49m\u001b[43mmode\u001b[49m\u001b[43m,\u001b[49m\n\u001b[1;32m     87\u001b[0m \u001b[43m\u001b[49m\u001b[43m)\u001b[49m\n\u001b[1;32m     89\u001b[0m \u001b[38;5;66;03m# ? This really hints at the fact that we need a better way of\u001b[39;00m\n\u001b[1;32m     90\u001b[0m \u001b[38;5;66;03m# ? attaching usage data and the raw response to the model we return.\u001b[39;00m\n",
      "File \u001b[0;32m~/Documents/coding/systematically-improving-rag/cohort_2/week6/.venv/lib/python3.12/site-packages/instructor/function_calls.py:156\u001b[0m, in \u001b[0;36mOpenAISchema.from_response\u001b[0;34m(cls, completion, validation_context, strict, mode)\u001b[0m\n\u001b[1;32m    149\u001b[0m \u001b[38;5;28;01mif\u001b[39;00m mode \u001b[38;5;129;01min\u001b[39;00m {\n\u001b[1;32m    150\u001b[0m     Mode\u001b[38;5;241m.\u001b[39mTOOLS,\n\u001b[1;32m    151\u001b[0m     Mode\u001b[38;5;241m.\u001b[39mMISTRAL_TOOLS,\n\u001b[0;32m   (...)\u001b[0m\n\u001b[1;32m    154\u001b[0m     Mode\u001b[38;5;241m.\u001b[39mFIREWORKS_TOOLS,\n\u001b[1;32m    155\u001b[0m }:\n\u001b[0;32m--> 156\u001b[0m     \u001b[38;5;28;01mreturn\u001b[39;00m \u001b[38;5;28;43mcls\u001b[39;49m\u001b[38;5;241;43m.\u001b[39;49m\u001b[43mparse_tools\u001b[49m\u001b[43m(\u001b[49m\u001b[43mcompletion\u001b[49m\u001b[43m,\u001b[49m\u001b[43m \u001b[49m\u001b[43mvalidation_context\u001b[49m\u001b[43m,\u001b[49m\u001b[43m \u001b[49m\u001b[43mstrict\u001b[49m\u001b[43m)\u001b[49m\n\u001b[1;32m    158\u001b[0m \u001b[38;5;28;01mif\u001b[39;00m mode \u001b[38;5;129;01min\u001b[39;00m {\n\u001b[1;32m    159\u001b[0m     Mode\u001b[38;5;241m.\u001b[39mJSON,\n\u001b[1;32m    160\u001b[0m     Mode\u001b[38;5;241m.\u001b[39mJSON_SCHEMA,\n\u001b[0;32m   (...)\u001b[0m\n\u001b[1;32m    164\u001b[0m     Mode\u001b[38;5;241m.\u001b[39mFIREWORKS_JSON,\n\u001b[1;32m    165\u001b[0m }:\n",
      "File \u001b[0;32m~/Documents/coding/systematically-improving-rag/cohort_2/week6/.venv/lib/python3.12/site-packages/instructor/function_calls.py:368\u001b[0m, in \u001b[0;36mOpenAISchema.parse_tools\u001b[0;34m(cls, completion, validation_context, strict)\u001b[0m\n\u001b[1;32m    365\u001b[0m \u001b[38;5;28;01massert\u001b[39;00m (\n\u001b[1;32m    366\u001b[0m     tool_call\u001b[38;5;241m.\u001b[39mfunction\u001b[38;5;241m.\u001b[39mname \u001b[38;5;241m==\u001b[39m \u001b[38;5;28mcls\u001b[39m\u001b[38;5;241m.\u001b[39mopenai_schema[\u001b[38;5;124m\"\u001b[39m\u001b[38;5;124mname\u001b[39m\u001b[38;5;124m\"\u001b[39m]  \u001b[38;5;66;03m# type: ignore[index]\u001b[39;00m\n\u001b[1;32m    367\u001b[0m ), \u001b[38;5;124m\"\u001b[39m\u001b[38;5;124mTool name does not match\u001b[39m\u001b[38;5;124m\"\u001b[39m\n\u001b[0;32m--> 368\u001b[0m \u001b[38;5;28;01mreturn\u001b[39;00m \u001b[38;5;28;43mcls\u001b[39;49m\u001b[38;5;241;43m.\u001b[39;49m\u001b[43mmodel_validate_json\u001b[49m\u001b[43m(\u001b[49m\n\u001b[1;32m    369\u001b[0m \u001b[43m    \u001b[49m\u001b[43mtool_call\u001b[49m\u001b[38;5;241;43m.\u001b[39;49m\u001b[43mfunction\u001b[49m\u001b[38;5;241;43m.\u001b[39;49m\u001b[43marguments\u001b[49m\u001b[43m,\u001b[49m\u001b[43m  \u001b[49m\u001b[38;5;66;43;03m# type: ignore\u001b[39;49;00m\n\u001b[1;32m    370\u001b[0m \u001b[43m    \u001b[49m\u001b[43mcontext\u001b[49m\u001b[38;5;241;43m=\u001b[39;49m\u001b[43mvalidation_context\u001b[49m\u001b[43m,\u001b[49m\n\u001b[1;32m    371\u001b[0m \u001b[43m    \u001b[49m\u001b[43mstrict\u001b[49m\u001b[38;5;241;43m=\u001b[39;49m\u001b[43mstrict\u001b[49m\u001b[43m,\u001b[49m\n\u001b[1;32m    372\u001b[0m \u001b[43m\u001b[49m\u001b[43m)\u001b[49m\n",
      "    \u001b[0;31m[... skipping hidden 1 frame]\u001b[0m\n",
      "Cell \u001b[0;32mIn[48], line 11\u001b[0m, in \u001b[0;36mCommand.validate_arguments\u001b[0;34m(self, info)\u001b[0m\n\u001b[1;32m     10\u001b[0m context \u001b[38;5;241m=\u001b[39m info\u001b[38;5;241m.\u001b[39mcontext\n\u001b[0;32m---> 11\u001b[0m extension_commands \u001b[38;5;241m=\u001b[39m \u001b[43mcontext\u001b[49m\u001b[43m[\u001b[49m\u001b[38;5;124;43m\"\u001b[39;49m\u001b[38;5;124;43mcommands\u001b[39;49m\u001b[38;5;124;43m\"\u001b[39;49m\u001b[43m]\u001b[49m\n\u001b[1;32m     13\u001b[0m \u001b[38;5;28;01mif\u001b[39;00m \u001b[38;5;28mself\u001b[39m\u001b[38;5;241m.\u001b[39mextension \u001b[38;5;129;01mnot\u001b[39;00m \u001b[38;5;129;01min\u001b[39;00m extension_commands:\n",
      "\u001b[0;31mKeyError\u001b[0m: 'commands'",
      "\nThe above exception was the direct cause of the following exception:\n",
      "\u001b[0;31mRetryError\u001b[0m                                Traceback (most recent call last)",
      "File \u001b[0;32m~/Documents/coding/systematically-improving-rag/cohort_2/week6/.venv/lib/python3.12/site-packages/instructor/retry.py:217\u001b[0m, in \u001b[0;36mretry_async\u001b[0;34m(func, response_model, args, kwargs, context, max_retries, strict, mode, hooks)\u001b[0m\n\u001b[1;32m    216\u001b[0m response \u001b[38;5;241m=\u001b[39m \u001b[38;5;28;01mNone\u001b[39;00m\n\u001b[0;32m--> 217\u001b[0m \u001b[38;5;28;01masync\u001b[39;00m \u001b[38;5;28;01mfor\u001b[39;00m attempt \u001b[38;5;129;01min\u001b[39;00m max_retries:\n\u001b[1;32m    218\u001b[0m     logger\u001b[38;5;241m.\u001b[39mdebug(\u001b[38;5;124mf\u001b[39m\u001b[38;5;124m\"\u001b[39m\u001b[38;5;124mRetrying, attempt: \u001b[39m\u001b[38;5;132;01m{\u001b[39;00mattempt\u001b[38;5;241m.\u001b[39mretry_state\u001b[38;5;241m.\u001b[39mattempt_number\u001b[38;5;132;01m}\u001b[39;00m\u001b[38;5;124m\"\u001b[39m)\n",
      "File \u001b[0;32m~/Documents/coding/systematically-improving-rag/cohort_2/week6/.venv/lib/python3.12/site-packages/tenacity/asyncio/__init__.py:166\u001b[0m, in \u001b[0;36mAsyncRetrying.__anext__\u001b[0;34m(self)\u001b[0m\n\u001b[1;32m    165\u001b[0m \u001b[38;5;28;01mwhile\u001b[39;00m \u001b[38;5;28;01mTrue\u001b[39;00m:\n\u001b[0;32m--> 166\u001b[0m     do \u001b[38;5;241m=\u001b[39m \u001b[38;5;28;01mawait\u001b[39;00m \u001b[38;5;28mself\u001b[39m\u001b[38;5;241m.\u001b[39miter(retry_state\u001b[38;5;241m=\u001b[39m\u001b[38;5;28mself\u001b[39m\u001b[38;5;241m.\u001b[39m_retry_state)\n\u001b[1;32m    167\u001b[0m     \u001b[38;5;28;01mif\u001b[39;00m do \u001b[38;5;129;01mis\u001b[39;00m \u001b[38;5;28;01mNone\u001b[39;00m:\n",
      "File \u001b[0;32m~/Documents/coding/systematically-improving-rag/cohort_2/week6/.venv/lib/python3.12/site-packages/tenacity/asyncio/__init__.py:153\u001b[0m, in \u001b[0;36mAsyncRetrying.iter\u001b[0;34m(self, retry_state)\u001b[0m\n\u001b[1;32m    152\u001b[0m \u001b[38;5;28;01mfor\u001b[39;00m action \u001b[38;5;129;01min\u001b[39;00m \u001b[38;5;28mself\u001b[39m\u001b[38;5;241m.\u001b[39miter_state\u001b[38;5;241m.\u001b[39mactions:\n\u001b[0;32m--> 153\u001b[0m     result \u001b[38;5;241m=\u001b[39m \u001b[38;5;28;01mawait\u001b[39;00m action(retry_state)\n\u001b[1;32m    154\u001b[0m \u001b[38;5;28;01mreturn\u001b[39;00m result\n",
      "File \u001b[0;32m~/Documents/coding/systematically-improving-rag/cohort_2/week6/.venv/lib/python3.12/site-packages/tenacity/_utils.py:99\u001b[0m, in \u001b[0;36mwrap_to_async_func.<locals>.inner\u001b[0;34m(*args, **kwargs)\u001b[0m\n\u001b[1;32m     98\u001b[0m \u001b[38;5;28;01masync\u001b[39;00m \u001b[38;5;28;01mdef\u001b[39;00m \u001b[38;5;21minner\u001b[39m(\u001b[38;5;241m*\u001b[39margs: typing\u001b[38;5;241m.\u001b[39mAny, \u001b[38;5;241m*\u001b[39m\u001b[38;5;241m*\u001b[39mkwargs: typing\u001b[38;5;241m.\u001b[39mAny) \u001b[38;5;241m-\u001b[39m\u001b[38;5;241m>\u001b[39m typing\u001b[38;5;241m.\u001b[39mAny:\n\u001b[0;32m---> 99\u001b[0m     \u001b[38;5;28;01mreturn\u001b[39;00m \u001b[43mcall\u001b[49m\u001b[43m(\u001b[49m\u001b[38;5;241;43m*\u001b[39;49m\u001b[43margs\u001b[49m\u001b[43m,\u001b[49m\u001b[43m \u001b[49m\u001b[38;5;241;43m*\u001b[39;49m\u001b[38;5;241;43m*\u001b[39;49m\u001b[43mkwargs\u001b[49m\u001b[43m)\u001b[49m\n",
      "File \u001b[0;32m~/Documents/coding/systematically-improving-rag/cohort_2/week6/.venv/lib/python3.12/site-packages/tenacity/__init__.py:419\u001b[0m, in \u001b[0;36mBaseRetrying._post_stop_check_actions.<locals>.exc_check\u001b[0;34m(rs)\u001b[0m\n\u001b[1;32m    418\u001b[0m     \u001b[38;5;28;01mraise\u001b[39;00m retry_exc\u001b[38;5;241m.\u001b[39mreraise()\n\u001b[0;32m--> 419\u001b[0m \u001b[38;5;28;01mraise\u001b[39;00m retry_exc \u001b[38;5;28;01mfrom\u001b[39;00m \u001b[38;5;21;01mfut\u001b[39;00m\u001b[38;5;21;01m.\u001b[39;00m\u001b[38;5;21;01mexception\u001b[39;00m()\n",
      "\u001b[0;31mRetryError\u001b[0m: RetryError[<Future at 0x118cdf1d0 state=finished raised KeyError>]",
      "\nThe above exception was the direct cause of the following exception:\n",
      "\u001b[0;31mInstructorRetryException\u001b[0m                  Traceback (most recent call last)",
      "Cell \u001b[0;32mIn[58], line 6\u001b[0m\n\u001b[1;32m      4\u001b[0m client \u001b[38;5;241m=\u001b[39m instructor\u001b[38;5;241m.\u001b[39mfrom_openai(openai\u001b[38;5;241m.\u001b[39mAsyncOpenAI())\n\u001b[1;32m      5\u001b[0m sem \u001b[38;5;241m=\u001b[39m Semaphore(\u001b[38;5;241m10\u001b[39m)\n\u001b[0;32m----> 6\u001b[0m \u001b[38;5;28mprint\u001b[39m(\u001b[38;5;28;01mawait\u001b[39;00m generate_execution_plan(client,sem, \u001b[38;5;124m\"\u001b[39m\u001b[38;5;124mFind me a restaurant that can seat 10 pax in Taipei?\u001b[39m\u001b[38;5;124m\"\u001b[39m))\n",
      "Cell \u001b[0;32mIn[55], line 5\u001b[0m, in \u001b[0;36mgenerate_execution_plan\u001b[0;34m(client, sem, query)\u001b[0m\n\u001b[1;32m      1\u001b[0m \u001b[38;5;28;01masync\u001b[39;00m \u001b[38;5;28;01mdef\u001b[39;00m \u001b[38;5;21mgenerate_execution_plan\u001b[39m(\n\u001b[1;32m      2\u001b[0m     client: instructor\u001b[38;5;241m.\u001b[39mAsyncInstructor, sem: Semaphore, query: \u001b[38;5;28mstr\u001b[39m\n\u001b[1;32m      3\u001b[0m ) \u001b[38;5;241m-\u001b[39m\u001b[38;5;241m>\u001b[39m ExecutionPlan:\n\u001b[1;32m      4\u001b[0m     \u001b[38;5;28;01masync\u001b[39;00m \u001b[38;5;28;01mwith\u001b[39;00m sem:\n\u001b[0;32m----> 5\u001b[0m         \u001b[38;5;28;01mreturn\u001b[39;00m \u001b[38;5;28;01mawait\u001b[39;00m client\u001b[38;5;241m.\u001b[39mchat\u001b[38;5;241m.\u001b[39mcompletions\u001b[38;5;241m.\u001b[39mcreate(\n\u001b[1;32m      6\u001b[0m             model\u001b[38;5;241m=\u001b[39m\u001b[38;5;124m\"\u001b[39m\u001b[38;5;124mgpt-4o\u001b[39m\u001b[38;5;124m\"\u001b[39m,\n\u001b[1;32m      7\u001b[0m             messages\u001b[38;5;241m=\u001b[39m[\n\u001b[1;32m      8\u001b[0m                 {\n\u001b[1;32m      9\u001b[0m                     \u001b[38;5;124m\"\u001b[39m\u001b[38;5;124mrole\u001b[39m\u001b[38;5;124m\"\u001b[39m: \u001b[38;5;124m\"\u001b[39m\u001b[38;5;124msystem\u001b[39m\u001b[38;5;124m\"\u001b[39m,\n\u001b[1;32m     10\u001b[0m                     \u001b[38;5;124m\"\u001b[39m\u001b[38;5;124mcontent\u001b[39m\u001b[38;5;124m\"\u001b[39m: \u001b[38;5;124m\"\"\"\u001b[39m\n\u001b[1;32m     11\u001b[0m \u001b[38;5;124m                    You\u001b[39m\u001b[38;5;124m'\u001b[39m\u001b[38;5;124mre an intelligent assistant that has access to a given list of commands that can be executed from an extension.\u001b[39m\n\u001b[1;32m     12\u001b[0m \n\u001b[1;32m     13\u001b[0m \u001b[38;5;124m                    Your job is to decide on the commands that will be executed in response to a user\u001b[39m\u001b[38;5;124m'\u001b[39m\u001b[38;5;124ms query.\u001b[39m\n\u001b[1;32m     14\u001b[0m \n\u001b[1;32m     15\u001b[0m \u001b[38;5;124m                    Here are the extensions and commands that you have access to:\u001b[39m\n\u001b[1;32m     16\u001b[0m \u001b[38;5;124m                    \u001b[39m\u001b[38;5;124m{\u001b[39m\u001b[38;5;132;01m% f\u001b[39;00m\u001b[38;5;124mor extension in extension_commands \u001b[39m\u001b[38;5;124m%\u001b[39m\u001b[38;5;124m}\u001b[39m\n\u001b[1;32m     17\u001b[0m \u001b[38;5;124m                    \u001b[39m\u001b[38;5;124m{\u001b[39m\u001b[38;5;132;01m% f\u001b[39;00m\u001b[38;5;124mor extension_command in extension_commands[extension] \u001b[39m\u001b[38;5;124m%\u001b[39m\u001b[38;5;124m}\u001b[39m\n\u001b[1;32m     18\u001b[0m \u001b[38;5;124m                    - \u001b[39m\u001b[38;5;124m{{\u001b[39m\u001b[38;5;124m extension }}.\u001b[39m\u001b[38;5;124m{{\u001b[39m\u001b[38;5;124m extension_command }} : \u001b[39m\u001b[38;5;124m{{\u001b[39m\u001b[38;5;124m extension_commands[extension][extension_command] }}\u001b[39m\n\u001b[1;32m     19\u001b[0m \u001b[38;5;124m                    \u001b[39m\u001b[38;5;124m{\u001b[39m\u001b[38;5;132;01m% e\u001b[39;00m\u001b[38;5;124mndfor \u001b[39m\u001b[38;5;124m%\u001b[39m\u001b[38;5;124m}\u001b[39m\n\u001b[1;32m     20\u001b[0m \u001b[38;5;124m                    \u001b[39m\u001b[38;5;124m{\u001b[39m\u001b[38;5;132;01m% e\u001b[39;00m\u001b[38;5;124mndfor \u001b[39m\u001b[38;5;124m%\u001b[39m\u001b[38;5;124m}\u001b[39m\n\u001b[1;32m     21\u001b[0m \n\u001b[1;32m     22\u001b[0m \u001b[38;5;124m                    The user\u001b[39m\u001b[38;5;124m'\u001b[39m\u001b[38;5;124ms query is: \u001b[39m\u001b[38;5;124m{{\u001b[39m\u001b[38;5;124m query }}\u001b[39m\n\u001b[1;32m     23\u001b[0m \u001b[38;5;124m                    \u001b[39m\u001b[38;5;124m\"\"\"\u001b[39m,\n\u001b[1;32m     24\u001b[0m                 }\n\u001b[1;32m     25\u001b[0m             ],\n\u001b[1;32m     26\u001b[0m             context\u001b[38;5;241m=\u001b[39m{\u001b[38;5;124m\"\u001b[39m\u001b[38;5;124mextension_commands\u001b[39m\u001b[38;5;124m\"\u001b[39m: extension_commands, \u001b[38;5;124m\"\u001b[39m\u001b[38;5;124mquery\u001b[39m\u001b[38;5;124m\"\u001b[39m: query},\n\u001b[1;32m     27\u001b[0m             response_model\u001b[38;5;241m=\u001b[39mExecutionPlan,\n\u001b[1;32m     28\u001b[0m         )\n",
      "File \u001b[0;32m~/Documents/coding/systematically-improving-rag/cohort_2/week6/.venv/lib/python3.12/site-packages/instructor/client.py:387\u001b[0m, in \u001b[0;36mAsyncInstructor.create\u001b[0;34m(self, response_model, messages, max_retries, validation_context, context, strict, **kwargs)\u001b[0m\n\u001b[1;32m    376\u001b[0m \u001b[38;5;28;01masync\u001b[39;00m \u001b[38;5;28;01mdef\u001b[39;00m \u001b[38;5;21mcreate\u001b[39m(\n\u001b[1;32m    377\u001b[0m     \u001b[38;5;28mself\u001b[39m,\n\u001b[1;32m    378\u001b[0m     response_model: \u001b[38;5;28mtype\u001b[39m[T] \u001b[38;5;241m|\u001b[39m \u001b[38;5;28;01mNone\u001b[39;00m,\n\u001b[0;32m   (...)\u001b[0m\n\u001b[1;32m    384\u001b[0m     \u001b[38;5;241m*\u001b[39m\u001b[38;5;241m*\u001b[39mkwargs: Any,\n\u001b[1;32m    385\u001b[0m ) \u001b[38;5;241m-\u001b[39m\u001b[38;5;241m>\u001b[39m T \u001b[38;5;241m|\u001b[39m Any:\n\u001b[1;32m    386\u001b[0m     kwargs \u001b[38;5;241m=\u001b[39m \u001b[38;5;28mself\u001b[39m\u001b[38;5;241m.\u001b[39mhandle_kwargs(kwargs)\n\u001b[0;32m--> 387\u001b[0m     \u001b[38;5;28;01mreturn\u001b[39;00m \u001b[38;5;28;01mawait\u001b[39;00m \u001b[38;5;28mself\u001b[39m\u001b[38;5;241m.\u001b[39mcreate_fn(\n\u001b[1;32m    388\u001b[0m         response_model\u001b[38;5;241m=\u001b[39mresponse_model,\n\u001b[1;32m    389\u001b[0m         validation_context\u001b[38;5;241m=\u001b[39mvalidation_context,\n\u001b[1;32m    390\u001b[0m         context\u001b[38;5;241m=\u001b[39mcontext,\n\u001b[1;32m    391\u001b[0m         max_retries\u001b[38;5;241m=\u001b[39mmax_retries,\n\u001b[1;32m    392\u001b[0m         messages\u001b[38;5;241m=\u001b[39mmessages,\n\u001b[1;32m    393\u001b[0m         strict\u001b[38;5;241m=\u001b[39mstrict,\n\u001b[1;32m    394\u001b[0m         hooks\u001b[38;5;241m=\u001b[39m\u001b[38;5;28mself\u001b[39m\u001b[38;5;241m.\u001b[39mhooks,\n\u001b[1;32m    395\u001b[0m         \u001b[38;5;241m*\u001b[39m\u001b[38;5;241m*\u001b[39mkwargs,\n\u001b[1;32m    396\u001b[0m     )\n",
      "File \u001b[0;32m~/Documents/coding/systematically-improving-rag/cohort_2/week6/.venv/lib/python3.12/site-packages/instructor/patch.py:161\u001b[0m, in \u001b[0;36mpatch.<locals>.new_create_async\u001b[0;34m(response_model, validation_context, context, max_retries, strict, hooks, *args, **kwargs)\u001b[0m\n\u001b[1;32m    156\u001b[0m response_model, new_kwargs \u001b[38;5;241m=\u001b[39m handle_response_model(\n\u001b[1;32m    157\u001b[0m     response_model\u001b[38;5;241m=\u001b[39mresponse_model, mode\u001b[38;5;241m=\u001b[39mmode, \u001b[38;5;241m*\u001b[39m\u001b[38;5;241m*\u001b[39mkwargs\n\u001b[1;32m    158\u001b[0m )\n\u001b[1;32m    159\u001b[0m new_kwargs \u001b[38;5;241m=\u001b[39m handle_templating(new_kwargs, context)\n\u001b[0;32m--> 161\u001b[0m response \u001b[38;5;241m=\u001b[39m \u001b[38;5;28;01mawait\u001b[39;00m retry_async(\n\u001b[1;32m    162\u001b[0m     func\u001b[38;5;241m=\u001b[39mfunc,  \u001b[38;5;66;03m# type:ignore\u001b[39;00m\n\u001b[1;32m    163\u001b[0m     response_model\u001b[38;5;241m=\u001b[39mresponse_model,\n\u001b[1;32m    164\u001b[0m     context\u001b[38;5;241m=\u001b[39mcontext,\n\u001b[1;32m    165\u001b[0m     max_retries\u001b[38;5;241m=\u001b[39mmax_retries,\n\u001b[1;32m    166\u001b[0m     args\u001b[38;5;241m=\u001b[39margs,\n\u001b[1;32m    167\u001b[0m     kwargs\u001b[38;5;241m=\u001b[39mnew_kwargs,\n\u001b[1;32m    168\u001b[0m     strict\u001b[38;5;241m=\u001b[39mstrict,\n\u001b[1;32m    169\u001b[0m     mode\u001b[38;5;241m=\u001b[39mmode,\n\u001b[1;32m    170\u001b[0m     hooks\u001b[38;5;241m=\u001b[39mhooks,\n\u001b[1;32m    171\u001b[0m )\n\u001b[1;32m    172\u001b[0m \u001b[38;5;28;01mreturn\u001b[39;00m response\n",
      "File \u001b[0;32m~/Documents/coding/systematically-improving-rag/cohort_2/week6/.venv/lib/python3.12/site-packages/instructor/retry.py:248\u001b[0m, in \u001b[0;36mretry_async\u001b[0;34m(func, response_model, args, kwargs, context, max_retries, strict, mode, hooks)\u001b[0m\n\u001b[1;32m    246\u001b[0m \u001b[38;5;28;01mexcept\u001b[39;00m RetryError \u001b[38;5;28;01mas\u001b[39;00m e:\n\u001b[1;32m    247\u001b[0m     logger\u001b[38;5;241m.\u001b[39mdebug(\u001b[38;5;124mf\u001b[39m\u001b[38;5;124m\"\u001b[39m\u001b[38;5;124mRetry error: \u001b[39m\u001b[38;5;132;01m{\u001b[39;00me\u001b[38;5;132;01m}\u001b[39;00m\u001b[38;5;124m\"\u001b[39m)\n\u001b[0;32m--> 248\u001b[0m     \u001b[38;5;28;01mraise\u001b[39;00m InstructorRetryException(\n\u001b[1;32m    249\u001b[0m         e\u001b[38;5;241m.\u001b[39mlast_attempt\u001b[38;5;241m.\u001b[39m_exception,\n\u001b[1;32m    250\u001b[0m         last_completion\u001b[38;5;241m=\u001b[39mresponse,\n\u001b[1;32m    251\u001b[0m         n_attempts\u001b[38;5;241m=\u001b[39mattempt\u001b[38;5;241m.\u001b[39mretry_state\u001b[38;5;241m.\u001b[39mattempt_number,\n\u001b[1;32m    252\u001b[0m         \u001b[38;5;66;03m#! deprecate messages soon\u001b[39;00m\n\u001b[1;32m    253\u001b[0m         messages\u001b[38;5;241m=\u001b[39mkwargs\u001b[38;5;241m.\u001b[39mget(\n\u001b[1;32m    254\u001b[0m             \u001b[38;5;124m\"\u001b[39m\u001b[38;5;124mmessages\u001b[39m\u001b[38;5;124m\"\u001b[39m, kwargs\u001b[38;5;241m.\u001b[39mget(\u001b[38;5;124m\"\u001b[39m\u001b[38;5;124mcontents\u001b[39m\u001b[38;5;124m\"\u001b[39m, kwargs\u001b[38;5;241m.\u001b[39mget(\u001b[38;5;124m\"\u001b[39m\u001b[38;5;124mchat_history\u001b[39m\u001b[38;5;124m\"\u001b[39m, []))\n\u001b[1;32m    255\u001b[0m         ),\n\u001b[1;32m    256\u001b[0m         create_kwargs\u001b[38;5;241m=\u001b[39mkwargs,\n\u001b[1;32m    257\u001b[0m         total_usage\u001b[38;5;241m=\u001b[39mtotal_usage,\n\u001b[1;32m    258\u001b[0m     ) \u001b[38;5;28;01mfrom\u001b[39;00m \u001b[38;5;21;01me\u001b[39;00m\n",
      "\u001b[0;31mInstructorRetryException\u001b[0m: 'commands'"
     ]
    }
   ],
   "source": [
    "from rich import print\n",
    "\n",
    "\n",
    "client = instructor.from_openai(openai.AsyncOpenAI())\n",
    "sem = Semaphore(10)\n",
    "print(await generate_execution_plan(client,sem, \"What's the capital of Taiwan?\"))"
   ]
  }
 ],
 "metadata": {
  "kernelspec": {
   "display_name": ".venv",
   "language": "python",
   "name": "python3"
  },
  "language_info": {
   "codemirror_mode": {
    "name": "ipython",
    "version": 3
   },
   "file_extension": ".py",
   "mimetype": "text/x-python",
   "name": "python",
   "nbconvert_exporter": "python",
   "pygments_lexer": "ipython3",
   "version": "3.12.7"
  }
 },
 "nbformat": 4,
 "nbformat_minor": 2
}
