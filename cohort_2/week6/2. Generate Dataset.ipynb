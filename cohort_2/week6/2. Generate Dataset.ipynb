{
 "cells": [
  {
   "cell_type": "markdown",
   "metadata": {},
   "source": [
    "# Week 6 - Systematically Improving Your Rag Application\n",
    "\n",
    "> If you haven't ran the previous notebook `1. Evaluate Tools.ipynb`, please do so before continuing. A lot of the code in this notebook will be based off the evaluation methods that we cover in that notebook.\n",
    "\n",
    "In this notebook, we'll be generating a synthetic dataset of user requests to evaluate our model's ability to call the right tool given a user request. This will help us understand how our model performs in this scenario and identify failure points that our model might struggle with.\n",
    "\n",
    "We'll do so in 3 steps\n",
    "\n",
    "1. **Failure Modes** : We'll first start by thinking about the specific failure modes that our model might struggle and show examples where our model might get confused\n",
    "\n",
    "2. **Generating Synthetic Prompts** : We'll then generate synthetic prompts for each command that take advantage and specifically test these failure modes.\n",
    "\n",
    "3. **Benchmarking** : We'll then use a naive approach to see how our model performs on these initial set of questions\n",
    "\n",
    "Once we've done so, we'll then have established an initial baseline of how our model performs and start exploring ways to improve this performance in the next notebook."
   ]
  },
  {
   "cell_type": "markdown",
   "metadata": {},
   "source": [
    "We've downloaded a list of commands ahead of time in a `raw_commands.json` file. These consist of a set of commands that we've downloaded from the `raycast` application ahead of time as well as some additional commands that we've added to the application.\n",
    "\n",
    "We'll load these commands into a list of Command objects as seen below. We'll store the following fields\n",
    "\n",
    "- `description` : A short description of the comamnd from the extension's documentation\n",
    "- `extension` : This is the name of the extension that the command belongs to\n",
    "- `command_name` : This is the name of the command as it appears in the `raycast` extension\n",
    "\n",
    "In order to ensure we have a unique command for each extension, we'll concatenate the `extension` and `command_name` fields together to form a unique key. This will help avoid a situation whereby we have multiple commands with the same name in different extensions.\n",
    "\n",
    "Eg. `obsidian.search` vs `apple-notes.search` would be very confusing and hard to test. Let's see it in action below.\n"
   ]
  },
  {
   "cell_type": "code",
   "execution_count": 17,
   "metadata": {},
   "outputs": [
    {
     "data": {
      "text/plain": [
       "72"
      ]
     },
     "execution_count": 17,
     "metadata": {},
     "output_type": "execute_result"
    }
   ],
   "source": [
    "from pydantic import BaseModel, computed_field\n",
    "import json\n",
    "\n",
    "\n",
    "class Command(BaseModel):\n",
    "    extension_name: str\n",
    "    command_name: str\n",
    "    command_description: str\n",
    "\n",
    "    @computed_field\n",
    "    def key(self) -> str:\n",
    "        return f\"{self.extension_name}.{self.command_name}\"\n",
    "\n",
    "\n",
    "def load_commands(file_path: str) -> list[Command]:\n",
    "    with open(file_path, \"r\") as file:\n",
    "        return [\n",
    "            Command(\n",
    "                extension_name=command[\"extension_name\"],\n",
    "                command_name=command[\"source_name\"],\n",
    "                command_description=command[\"description\"],\n",
    "            )\n",
    "            for command in json.load(file)\n",
    "        ]\n",
    "\n",
    "\n",
    "commands = load_commands(\"raw_commands.json\")\n",
    "len(commands)"
   ]
  },
  {
   "cell_type": "markdown",
   "metadata": {},
   "source": [
    "## Identifying Failure Modes\n",
    "\n",
    "When it comes to deciding what tools to call for a personal assistant, there are two main failure points that our model might struggle with.    \n",
    "\n",
    "1. **A Lack Of Context** : It's common for users to use multiple note taking apps. We have Notion for company documents, Obsidian for personal notes and Apple Notes for quick notes that are more ephemeral. But it's difficult for a language model to know exactly which app to use when the user makes a request like `Sarah just got back to me on the project that our campaign was approved. can you make a note in our project page about it?` vs `I'm going shopping for groceries later, can you remind me that i need to buy milk, eggs and bread?`\n",
    "\n",
    "2. **Multi-Step Tasks** : When we start scaling out our application to support calling multiple applications, we might find that our model struggles with multi-step tasks. For instance, given the request `create a new feature branch for the UI refactor and link all the tickets you've found about onboarding issues in the PR description`, we might find that our model struggles to call the required tools in the correct order or even call the tools at all.\n",
    "\n",
    "Let's explore these in more detail.\n"
   ]
  },
  {
   "cell_type": "markdown",
   "metadata": {},
   "source": [
    "### Lack Of Context\n",
    "\n",
    "Let's imagine we have three commands that we want to evalute\n",
    "\n",
    "- `obsidian.search`\n",
    "- `apple-notes.search`\n",
    "- `notion.search`\n",
    "\n",
    "Without much context or description of what the extension's command does, we might expect our model to get confused. \n",
    "\n",
    "For instance, it's perfectly valid for a user to use apple-notes for every single note they take, thus resulting in every other extension here being useless. Let's see this in action below where our model is provided with these commands and asked to call the correct tool given a user request.\n",
    "\n",
    "We'll represent our tool calls as a list of commands that the model has selected. \n",
    "\n",
    "For now, we'll only be evaluating whether the model has selected the correct tool or not as an initial step. When you implement this for your use case, you'll also want to evaluate the arguments that the model has selected for each specific command."
   ]
  },
  {
   "cell_type": "code",
   "execution_count": 18,
   "metadata": {},
   "outputs": [],
   "source": [
    "from pydantic import BaseModel, field_validator, ValidationInfo\n",
    "\n",
    "\n",
    "class UserCommandArgument(BaseModel):\n",
    "    title: str\n",
    "    value: str\n",
    "\n",
    "\n",
    "class UserCommand(BaseModel):\n",
    "    key: str\n",
    "    arguments: list[UserCommandArgument]\n",
    "\n",
    "\n",
    "class SelectedCommands(BaseModel):\n",
    "    selected_commands: list[UserCommand]\n",
    "\n",
    "    @field_validator(\"selected_commands\")\n",
    "    def validate_selected_commands(cls, v, info: ValidationInfo):\n",
    "        if len(v) == 0:\n",
    "            raise ValueError(\"You must select at least one command to be executed\")\n",
    "\n",
    "        commands: list[Command] = info.context[\"commands\"]\n",
    "        valid_command_keys = [command.key for command in commands]\n",
    "        invalid_keys = [\n",
    "            command.key for command in v if command.key not in valid_command_keys\n",
    "        ]\n",
    "        if invalid_keys:\n",
    "            raise ValueError(\n",
    "                f\"Commands {invalid_keys} are not valid commands. Valid commands that can be used are {valid_command_keys}\"\n",
    "            )\n",
    "\n",
    "        return v\n"
   ]
  },
  {
   "cell_type": "markdown",
   "metadata": {},
   "source": [
    "In response to a user query like `fetch me my notes on CS325 tagged as important`, we might expect our model to select the `obsidian.search` command.\n",
    "\n",
    "In this case, it would call it with the arguments `title: CS325` and `tag: important`. This would in turn translate to the following command call\n",
    "\n",
    "```python\n",
    "SelectedCommands(\n",
    "    selected_commands=[\n",
    "        UserCommand(\n",
    "            key=\"obsidian.search\",\n",
    "            arguments=[\n",
    "                UserCommandArgument(title=\"title\", value=\"CS325\"), \n",
    "                UserCommandArgument(title=\"tag\", value=\"important\")\n",
    "            ]\n",
    "        )\n",
    "    ]\n",
    ")\n",
    "```\n",
    "\n",
    "This could then be executed as a command in the `raycast` application with its own validation logic and return the results to the user. \n",
    "\n",
    "We're also able to modify the list of valid commands on demand by reading a shared list of commands from the `ValidationInfo` object which we can access in both our validation and prompt formatting logic.\n",
    "\n",
    "Let's see this in action below where we provide our model with the list of commands we've provided in the `raw_commands.json` file and ask it to select the correct tool given a user request."
   ]
  },
  {
   "cell_type": "code",
   "execution_count": 20,
   "metadata": {},
   "outputs": [
    {
     "data": {
      "text/html": [
       "<pre style=\"white-space:pre;overflow-x:auto;line-height:normal;font-family:Menlo,'DejaVu Sans Mono',consolas,'Courier New',monospace\">\n",
       "Query: Seems like the missing ingredient for the hamburger recipe was msg, let's add that in to our Beef \n",
       "Cheeseburger recipe note\n",
       "Selected commands: <span style=\"font-weight: bold\">[</span><span style=\"color: #008000; text-decoration-color: #008000\">'obsidian.dailyNoteAppendCommand'</span><span style=\"font-weight: bold\">]</span>\n",
       "Expected tool: <span style=\"font-weight: bold\">[</span><span style=\"color: #008000; text-decoration-color: #008000\">'apple-notes.add-text'</span><span style=\"font-weight: bold\">]</span>\n",
       "--------------------------------------------------\n",
       "</pre>\n"
      ],
      "text/plain": [
       "\n",
       "Query: Seems like the missing ingredient for the hamburger recipe was msg, let's add that in to our Beef \n",
       "Cheeseburger recipe note\n",
       "Selected commands: \u001b[1m[\u001b[0m\u001b[32m'obsidian.dailyNoteAppendCommand'\u001b[0m\u001b[1m]\u001b[0m\n",
       "Expected tool: \u001b[1m[\u001b[0m\u001b[32m'apple-notes.add-text'\u001b[0m\u001b[1m]\u001b[0m\n",
       "--------------------------------------------------\n"
      ]
     },
     "metadata": {},
     "output_type": "display_data"
    },
    {
     "data": {
      "text/html": [
       "<pre style=\"white-space:pre;overflow-x:auto;line-height:normal;font-family:Menlo,'DejaVu Sans Mono',consolas,'Courier New',monospace\">\n",
       "Query: What did I write about LSTMs previously?\n",
       "Selected commands: <span style=\"font-weight: bold\">[</span><span style=\"color: #008000; text-decoration-color: #008000\">'obsidian.searchNoteCommand'</span><span style=\"font-weight: bold\">]</span>\n",
       "Expected tool: <span style=\"font-weight: bold\">[</span><span style=\"color: #008000; text-decoration-color: #008000\">'obsidian.searchNoteCommand'</span><span style=\"font-weight: bold\">]</span>\n",
       "--------------------------------------------------\n",
       "</pre>\n"
      ],
      "text/plain": [
       "\n",
       "Query: What did I write about LSTMs previously?\n",
       "Selected commands: \u001b[1m[\u001b[0m\u001b[32m'obsidian.searchNoteCommand'\u001b[0m\u001b[1m]\u001b[0m\n",
       "Expected tool: \u001b[1m[\u001b[0m\u001b[32m'obsidian.searchNoteCommand'\u001b[0m\u001b[1m]\u001b[0m\n",
       "--------------------------------------------------\n"
      ]
     },
     "metadata": {},
     "output_type": "display_data"
    },
    {
     "data": {
      "text/html": [
       "<pre style=\"white-space:pre;overflow-x:auto;line-height:normal;font-family:Menlo,'DejaVu Sans Mono',consolas,'Courier New',monospace\">\n",
       "Query: Can you note down that Jeanine is the new person in charge of the onboarding team in our team docs?\n",
       "Selected commands: <span style=\"font-weight: bold\">[</span><span style=\"color: #008000; text-decoration-color: #008000\">'notion.add-text-to-page'</span><span style=\"font-weight: bold\">]</span>\n",
       "Expected tool: <span style=\"font-weight: bold\">[</span><span style=\"color: #008000; text-decoration-color: #008000\">'confluence.add-text'</span><span style=\"font-weight: bold\">]</span>\n",
       "--------------------------------------------------\n",
       "</pre>\n"
      ],
      "text/plain": [
       "\n",
       "Query: Can you note down that Jeanine is the new person in charge of the onboarding team in our team docs?\n",
       "Selected commands: \u001b[1m[\u001b[0m\u001b[32m'notion.add-text-to-page'\u001b[0m\u001b[1m]\u001b[0m\n",
       "Expected tool: \u001b[1m[\u001b[0m\u001b[32m'confluence.add-text'\u001b[0m\u001b[1m]\u001b[0m\n",
       "--------------------------------------------------\n"
      ]
     },
     "metadata": {},
     "output_type": "display_data"
    }
   ],
   "source": [
    "import instructor\n",
    "import google.generativeai as genai\n",
    "from rich import print\n",
    "\n",
    "queries = [\n",
    "    [\n",
    "        \"Seems like the missing ingredient for the hamburger recipe was msg, let's add that in to our Beef Cheeseburger recipe note\",\n",
    "        [\"apple-notes.add-text\"],\n",
    "    ],\n",
    "    [\"What did I write about LSTMs previously?\", [\"obsidian.searchNoteCommand\"]],\n",
    "    [\n",
    "        \"Can you note down that Jeanine is the new person in charge of the onboarding team in our team docs?\",\n",
    "        [\"confluence.add-text\"],\n",
    "    ],\n",
    "]\n",
    "\n",
    "client = instructor.from_gemini(genai.GenerativeModel(\"models/gemini-1.5-flash-latest\"))\n",
    "\n",
    "\n",
    "for query, expected_tool in queries:\n",
    "    response = client.chat.completions.create(\n",
    "        messages=[\n",
    "            {\n",
    "                \"role\": \"system\",\n",
    "                \"content\": \"\"\"\n",
    "                You are a helpful assistant that can execute commands in response to a user query. You have access to the following commands:\n",
    "                \n",
    "                <commands>\n",
    "                {% for command in commands %}\n",
    "                - {{ command.key }} : {{ command.command_description }}\n",
    "                {% endfor %}\n",
    "                </commands>\n",
    "\n",
    "                You must select at least one command to be called.\n",
    "                \"\"\",\n",
    "            },\n",
    "            {\n",
    "                \"role\": \"user\",\n",
    "                \"content\": query,\n",
    "            },\n",
    "        ],\n",
    "        response_model=SelectedCommands,\n",
    "        context={\"commands\": commands},\n",
    "    )\n",
    "    print(\n",
    "        f\"\\nQuery: {query}\\nSelected commands: {[command.key for command in response.selected_commands]}\\nExpected tool: {expected_tool}\\n{'-' * 50}\"\n",
    "    )\n"
   ]
  },
  {
   "cell_type": "markdown",
   "metadata": {},
   "source": [
    "Without any context, our model struggles to decide what the right tool to be called is in response to the user request. In fact in our three examples above, it gets only one of them right.\n",
    "\n",
    "This is a good indication that in order for our model to be able to call the right tool, we need to provide it with more context."
   ]
  },
  {
   "cell_type": "markdown",
   "metadata": {},
   "source": [
    "### Multi-Step Tasks\n",
    "\n",
    "How about multi-step tasks where we might need to chain multiple commands together or in parallel and execute them in a specific order?\n",
    "\n",
    "Let's see this in action below where we have a few commands that we want to execute"
   ]
  },
  {
   "cell_type": "code",
   "execution_count": 23,
   "metadata": {},
   "outputs": [
    {
     "data": {
      "text/html": [
       "<pre style=\"white-space:pre;overflow-x:auto;line-height:normal;font-family:Menlo,'DejaVu Sans Mono',consolas,'Courier New',monospace\">\n",
       "Query: Let's create a new release post about our latest deployment, also make sure to link the specific issues that\n",
       "were fixed in the latest sprint and send a message the #engineering channel to let them know about it\n",
       "Selected commands: <span style=\"font-weight: bold\">[</span><span style=\"color: #008000; text-decoration-color: #008000\">'discord.sendMessage'</span>, <span style=\"color: #008000; text-decoration-color: #008000\">'jira.active-sprints'</span><span style=\"font-weight: bold\">]</span>\n",
       "Expected tool: <span style=\"font-weight: bold\">[</span><span style=\"color: #008000; text-decoration-color: #008000\">'confluence-search.new-blog'</span>, <span style=\"color: #008000; text-decoration-color: #008000\">'jira.active-sprints'</span>, <span style=\"color: #008000; text-decoration-color: #008000\">'teams.sendMessage'</span><span style=\"font-weight: bold\">]</span>\n",
       "--------------------------------------------------\n",
       "</pre>\n"
      ],
      "text/plain": [
       "\n",
       "Query: Let's create a new release post about our latest deployment, also make sure to link the specific issues that\n",
       "were fixed in the latest sprint and send a message the #engineering channel to let them know about it\n",
       "Selected commands: \u001b[1m[\u001b[0m\u001b[32m'discord.sendMessage'\u001b[0m, \u001b[32m'jira.active-sprints'\u001b[0m\u001b[1m]\u001b[0m\n",
       "Expected tool: \u001b[1m[\u001b[0m\u001b[32m'confluence-search.new-blog'\u001b[0m, \u001b[32m'jira.active-sprints'\u001b[0m, \u001b[32m'teams.sendMessage'\u001b[0m\u001b[1m]\u001b[0m\n",
       "--------------------------------------------------\n"
      ]
     },
     "metadata": {},
     "output_type": "display_data"
    },
    {
     "data": {
      "text/html": [
       "<pre style=\"white-space:pre;overflow-x:auto;line-height:normal;font-family:Menlo,'DejaVu Sans Mono',consolas,'Courier New',monospace\">\n",
       "Query: find weather taiwan dec and generate shopping list for it\n",
       "Selected commands: <span style=\"font-weight: bold\">[</span><span style=\"color: #008000; text-decoration-color: #008000\">'google-search.index'</span><span style=\"font-weight: bold\">]</span>\n",
       "Expected tool: <span style=\"font-weight: bold\">[</span><span style=\"color: #008000; text-decoration-color: #008000\">'google-search.index'</span>, <span style=\"color: #008000; text-decoration-color: #008000\">'apple-notes.ai'</span><span style=\"font-weight: bold\">]</span>\n",
       "--------------------------------------------------\n",
       "</pre>\n"
      ],
      "text/plain": [
       "\n",
       "Query: find weather taiwan dec and generate shopping list for it\n",
       "Selected commands: \u001b[1m[\u001b[0m\u001b[32m'google-search.index'\u001b[0m\u001b[1m]\u001b[0m\n",
       "Expected tool: \u001b[1m[\u001b[0m\u001b[32m'google-search.index'\u001b[0m, \u001b[32m'apple-notes.ai'\u001b[0m\u001b[1m]\u001b[0m\n",
       "--------------------------------------------------\n"
      ]
     },
     "metadata": {},
     "output_type": "display_data"
    }
   ],
   "source": [
    "queries = [\n",
    "    [\n",
    "        \"Let's create a new release post about our latest deployment, also make sure to link the specific issues that were fixed in the latest sprint and send a message the #engineering channel to let them know about it\",\n",
    "        [\"confluence-search.new-blog\", \"jira.active-sprints\", \"teams.sendMessage\"],\n",
    "    ],\n",
    "    [\n",
    "        \"find weather taiwan dec and generate shopping list for it\",\n",
    "        [\"google-search.index\", \"apple-notes.ai\"],\n",
    "    ],\n",
    "]\n",
    "\n",
    "client = instructor.from_gemini(genai.GenerativeModel(\"models/gemini-1.5-flash-latest\"))\n",
    "\n",
    "\n",
    "for query, expected_tool in queries:\n",
    "    response = client.chat.completions.create(\n",
    "        messages=[\n",
    "            {\n",
    "                \"role\": \"system\",\n",
    "                \"content\": \"\"\"\n",
    "                You are a helpful assistant that can execute commands in response to a user query. You have access to the following commands:\n",
    "                \n",
    "                <commands>\n",
    "                {% for command in commands %}\n",
    "                - {{ command.key }} : {{ command.command_description }}\n",
    "                {% endfor %}\n",
    "                </commands>\n",
    "\n",
    "                You must select at least one command to be called.\n",
    "                \"\"\",\n",
    "            },\n",
    "            {\n",
    "                \"role\": \"user\",\n",
    "                \"content\": query,\n",
    "            },\n",
    "        ],\n",
    "        response_model=SelectedCommands,\n",
    "        context={\"commands\": commands},\n",
    "    )\n",
    "    print(\n",
    "        f\"\\nQuery: {query}\\nSelected commands: {[command.key for command in response.selected_commands]}\\nExpected tool: {expected_tool}\\n{'-' * 50}\"\n",
    "    )\n"
   ]
  },
  {
   "cell_type": "markdown",
   "metadata": {},
   "source": [
    "We can see that our model's performance is slightly worse here. \n",
    "\n",
    "In the first case, it's wrongly identifies that we should send a message using the `discord.sendMessage` command instead of the `teams.sendMessage` command. Additionally, it doesn't call the `jira.active-sprints` command as expected.\n",
    "\n",
    "In the second case it's able to call the `google-search.index` command but then struggles to call the `apple-notes.ai` command to generate the shopping list from the search results.\n",
    "\n"
   ]
  },
  {
   "cell_type": "markdown",
   "metadata": {},
   "source": [
    "# Generating Synthetic Queries\n",
    "\n",
    "Now that we've identified some of the initial failure modes that our model might struggle with, let's start generating synthetic queries that specifically test these failure modes.\n",
    "\n",
    "We'll do so by writing out a brief prompt that describes how our user uses the individual extensions and then generate a list of queries that are based off these extensions. Once we've generated an initial list of queries, we'll then use them to prompt our model to generate more queries.\n",
    "\n",
    "By doing so, we'll be able to generate more diverse and unique queries in our dataset"
   ]
  },
  {
   "cell_type": "code",
   "execution_count": 35,
   "metadata": {},
   "outputs": [],
   "source": [
    "user_behaviour = \"\"\"\n",
    "Currently our user uses the following extensions for the following purposes\n",
    "\n",
    "- Confluence is used for company documentation, posts and notes. Note that we should use a post when it's a one time event or announcement (eg. Feature Release ) and a page when we'd like to keep it around for a longer period (Eg. Onboarding Document, Team Handbook, Incident Reports that we want to refer to down the line). Use filters for common queries/views that I need to refer to \n",
    "- Notion is used for planning trips, tracking expenses and other forms of long term planning. \n",
    "- Apple notes are used for quick notes that are more one-off. Examples of these notes includes recipes, shopping lists, notes about a movie we want to watch, things to note down etc, todo lists, reminders etc\n",
    "- Obsidian is used for personal notes and reflections on a wide range of topics (Eg. Classes we've taken, books we've read, notes about a lecture we went to etc)\n",
    "\n",
    "- Google Search is used for searching the web for information\n",
    "- iMessage is used for sending messages to friends and family. These messages are short informal and mostly about the weather, plans for the weekend, coordinating certain events, looking up appointments etc\n",
    "- Discord is used for gaming - so we'll use it for sending messages that are related to gaming and coordinating these gaming sessions with friends\n",
    "- Teams is used for sending messages for work stuff - we might use it to send messages to a channel or to a specific person in response to certain work related projects, requests, developments etc\n",
    "\n",
    "- Github is used for tracking pull requests, collaborating with other developers, running tests and deploying code (Eg. What's the update on the CI, is there a new release of the app, what's the status of the new feature branch, any new security vulnerabilities that we flagged, any new PRs to review etc)\n",
    "- We use Jira to track outstanding bugs and issues that users have reported and we need to work on. Often times we'll be tracking the issue in jira and then creating PRs in github to fix it\n",
    "\"\"\""
   ]
  },
  {
   "cell_type": "markdown",
   "metadata": {},
   "source": [
    "We'll choose a few extension commands randomly and then generate our initial list of queries based off these extension commands. \n",
    "\n",
    "Once we've done so, we'll have a few queries as seen below which we'll store in a `queries.jsonl` file. \n",
    "\n",
    "```bash\n",
    "\n",
    "```"
   ]
  },
  {
   "cell_type": "code",
   "execution_count": 47,
   "metadata": {},
   "outputs": [
    {
     "data": {
      "text/html": [
       "<pre style=\"white-space:pre;overflow-x:auto;line-height:normal;font-family:Menlo,'DejaVu Sans Mono',consolas,'Courier New',monospace\"><span style=\"color: #800080; text-decoration-color: #800080; font-weight: bold\">UserQuery</span><span style=\"font-weight: bold\">(</span>\n",
       "    <span style=\"color: #808000; text-decoration-color: #808000\">chain_of_thought</span>=<span style=\"color: #008000; text-decoration-color: #008000\">\"I need to check my unread messages in Microsoft Teams and then check the status of a Jira </span>\n",
       "<span style=\"color: #008000; text-decoration-color: #008000\">issue I'm working on.\"</span>,\n",
       "    <span style=\"color: #808000; text-decoration-color: #808000\">user_query</span>=<span style=\"color: #008000; text-decoration-color: #008000\">'Show me my unread Microsoft Teams messages and then show me the Jira issues assigned to me that are</span>\n",
       "<span style=\"color: #008000; text-decoration-color: #008000\">in progress.'</span>,\n",
       "    <span style=\"color: #808000; text-decoration-color: #808000\">commands</span>=<span style=\"font-weight: bold\">[</span>\n",
       "        <span style=\"color: #800080; text-decoration-color: #800080; font-weight: bold\">UserCommand</span><span style=\"font-weight: bold\">(</span>\n",
       "            <span style=\"color: #808000; text-decoration-color: #808000\">key</span>=<span style=\"color: #008000; text-decoration-color: #008000\">'microsoft-teams.unreadMessages'</span>,\n",
       "            <span style=\"color: #808000; text-decoration-color: #808000\">arguments</span>=<span style=\"font-weight: bold\">[</span><span style=\"color: #800080; text-decoration-color: #800080; font-weight: bold\">UserCommandArgument</span><span style=\"font-weight: bold\">(</span><span style=\"color: #808000; text-decoration-color: #808000\">title</span>=<span style=\"color: #008000; text-decoration-color: #008000\">'key'</span>, <span style=\"color: #808000; text-decoration-color: #808000\">value</span>=<span style=\"color: #008000; text-decoration-color: #008000\">'microsoft-teams.unreadMessages'</span><span style=\"font-weight: bold\">)]</span>\n",
       "        <span style=\"font-weight: bold\">)</span>,\n",
       "        <span style=\"color: #800080; text-decoration-color: #800080; font-weight: bold\">UserCommand</span><span style=\"font-weight: bold\">(</span>\n",
       "            <span style=\"color: #808000; text-decoration-color: #808000\">key</span>=<span style=\"color: #008000; text-decoration-color: #008000\">'jira.search-issues'</span>,\n",
       "            <span style=\"color: #808000; text-decoration-color: #808000\">arguments</span>=<span style=\"font-weight: bold\">[</span>\n",
       "                <span style=\"color: #800080; text-decoration-color: #800080; font-weight: bold\">UserCommandArgument</span><span style=\"font-weight: bold\">(</span><span style=\"color: #808000; text-decoration-color: #808000\">title</span>=<span style=\"color: #008000; text-decoration-color: #008000\">'key'</span>, <span style=\"color: #808000; text-decoration-color: #808000\">value</span>=<span style=\"color: #008000; text-decoration-color: #008000\">'jira.search-issues'</span><span style=\"font-weight: bold\">)</span>,\n",
       "                <span style=\"color: #800080; text-decoration-color: #800080; font-weight: bold\">UserCommandArgument</span><span style=\"font-weight: bold\">(</span><span style=\"color: #808000; text-decoration-color: #808000\">title</span>=<span style=\"color: #008000; text-decoration-color: #008000\">'jql'</span>, <span style=\"color: #808000; text-decoration-color: #808000\">value</span>=<span style=\"color: #008000; text-decoration-color: #008000\">'assignee = currentUser() AND status = \\\\\"In progress\\\\\"'</span><span style=\"font-weight: bold\">)</span>\n",
       "            <span style=\"font-weight: bold\">]</span>\n",
       "        <span style=\"font-weight: bold\">)</span>\n",
       "    <span style=\"font-weight: bold\">]</span>\n",
       "<span style=\"font-weight: bold\">)</span>\n",
       "</pre>\n"
      ],
      "text/plain": [
       "\u001b[1;35mUserQuery\u001b[0m\u001b[1m(\u001b[0m\n",
       "    \u001b[33mchain_of_thought\u001b[0m=\u001b[32m\"I\u001b[0m\u001b[32m need to check my unread messages in Microsoft Teams and then check the status of a Jira \u001b[0m\n",
       "\u001b[32missue I'm working on.\"\u001b[0m,\n",
       "    \u001b[33muser_query\u001b[0m=\u001b[32m'Show me my unread Microsoft Teams messages and then show me the Jira issues assigned to me that are\u001b[0m\n",
       "\u001b[32min progress.'\u001b[0m,\n",
       "    \u001b[33mcommands\u001b[0m=\u001b[1m[\u001b[0m\n",
       "        \u001b[1;35mUserCommand\u001b[0m\u001b[1m(\u001b[0m\n",
       "            \u001b[33mkey\u001b[0m=\u001b[32m'microsoft-teams.unreadMessages'\u001b[0m,\n",
       "            \u001b[33marguments\u001b[0m=\u001b[1m[\u001b[0m\u001b[1;35mUserCommandArgument\u001b[0m\u001b[1m(\u001b[0m\u001b[33mtitle\u001b[0m=\u001b[32m'key'\u001b[0m, \u001b[33mvalue\u001b[0m=\u001b[32m'microsoft-teams.unreadMessages'\u001b[0m\u001b[1m)\u001b[0m\u001b[1m]\u001b[0m\n",
       "        \u001b[1m)\u001b[0m,\n",
       "        \u001b[1;35mUserCommand\u001b[0m\u001b[1m(\u001b[0m\n",
       "            \u001b[33mkey\u001b[0m=\u001b[32m'jira.search-issues'\u001b[0m,\n",
       "            \u001b[33marguments\u001b[0m=\u001b[1m[\u001b[0m\n",
       "                \u001b[1;35mUserCommandArgument\u001b[0m\u001b[1m(\u001b[0m\u001b[33mtitle\u001b[0m=\u001b[32m'key'\u001b[0m, \u001b[33mvalue\u001b[0m=\u001b[32m'jira.search-issues'\u001b[0m\u001b[1m)\u001b[0m,\n",
       "                \u001b[1;35mUserCommandArgument\u001b[0m\u001b[1m(\u001b[0m\u001b[33mtitle\u001b[0m=\u001b[32m'jql'\u001b[0m, \u001b[33mvalue\u001b[0m=\u001b[32m'assignee = currentUser\u001b[0m\u001b[32m(\u001b[0m\u001b[32m)\u001b[0m\u001b[32m AND status = \\\\\"In progress\\\\\"'\u001b[0m\u001b[1m)\u001b[0m\n",
       "            \u001b[1m]\u001b[0m\n",
       "        \u001b[1m)\u001b[0m\n",
       "    \u001b[1m]\u001b[0m\n",
       "\u001b[1m)\u001b[0m\n"
      ]
     },
     "metadata": {},
     "output_type": "display_data"
    }
   ],
   "source": [
    "import random\n",
    "from pydantic import BaseModel, field_validator, ValidationInfo\n",
    "from rich import print\n",
    "import re\n",
    "\n",
    "\n",
    "class UserQuery(BaseModel):\n",
    "    chain_of_thought: str\n",
    "    user_query: str\n",
    "    commands: list[UserCommand]\n",
    "\n",
    "    @field_validator(\"user_query\")\n",
    "    def validate_valid_query(cls, v):\n",
    "        return re.sub(r'\\\\{1,}\"', \"'\", v)\n",
    "\n",
    "    @field_validator(\"commands\")\n",
    "    def validate_commands(cls, v, info: ValidationInfo):\n",
    "        commands: list[Command] = info.context[\"commands\"]\n",
    "        valid_command_keys = [command.key for command in commands]\n",
    "        invalid_keys = [\n",
    "            command.key for command in v if command.key not in valid_command_keys\n",
    "        ]\n",
    "        if invalid_keys:\n",
    "            raise ValueError(\n",
    "                f\"Commands {invalid_keys} are not valid commands. Valid commands that can be used are {valid_command_keys}\"\n",
    "            )\n",
    "        return v\n",
    "\n",
    "\n",
    "async def generate_query(\n",
    "    client: instructor.AsyncInstructor,\n",
    "    command: Command,\n",
    "    commands: list[Command],\n",
    "    user_behaviour: str,\n",
    ") -> UserQuery:\n",
    "    query_length = random.randint(10, 30)\n",
    "\n",
    "    return await client.chat.completions.create(\n",
    "        messages=[\n",
    "            {\n",
    "                \"role\": \"system\",\n",
    "                \"content\": \"\"\"\n",
    "                Generate a hypothetical user message that is about {{ length }} uses the following command and at most 2 more commands from the list of commands below. Make sure to use the specific command name as the key for the command.\n",
    "\n",
    "                command_name: {{command.key}}    \n",
    "                description: {{command.command_description}}\n",
    "\n",
    "                Here are a list of other commands that you can use in conjunction with the above command \n",
    "\n",
    "                <commands>\n",
    "                {% for command in commands %}\n",
    "                <command>\n",
    "                    <command_name>{{ command.key }}</command_name>\n",
    "                    <command_description>{{ command.command_description }}</command_description>\n",
    "                </command>\n",
    "                {% endfor %}\n",
    "                </commands>\n",
    "\n",
    "                Here is a rough description of how our user uses the application\n",
    "\n",
    "                <user_behaviour>\n",
    "                {{ user_behaviour }}\n",
    "                </user_behaviour>\n",
    "\n",
    "                Think carefully about what this specific command is used for, how it differs from other commands available in the same extension and other commands in the application. Lastly consider about how we could use this command in conjunction with other commands based off the user behaviour listed above. \n",
    "\n",
    "                Once you've done so, remember to generate a user message that uses the command in a way that is consistent with the user behaviour listed above and is written in the imperative as an demand/request.\n",
    "                \"\"\",\n",
    "            },\n",
    "        ],\n",
    "        context={\n",
    "            \"command\": command,\n",
    "            \"commands\": commands,\n",
    "            \"user_behaviour\": user_behaviour,\n",
    "            \"length\": query_length,\n",
    "        },\n",
    "        response_model=UserQuery,\n",
    "    )\n",
    "\n",
    "\n",
    "client = instructor.from_gemini(\n",
    "    genai.GenerativeModel(\"models/gemini-1.5-flash-latest\"), use_async=True\n",
    ")\n",
    "\n",
    "print(await generate_query(client, random.choice(commands), commands, user_behaviour))"
   ]
  },
  {
   "cell_type": "code",
   "execution_count": 48,
   "metadata": {},
   "outputs": [
    {
     "name": "stderr",
     "output_type": "stream",
     "text": [
      "100%|██████████| 5/5 [00:05<00:00,  1.13s/it]\n"
     ]
    }
   ],
   "source": [
    "from tqdm.asyncio import tqdm_asyncio as asyncio\n",
    "\n",
    "queries = await asyncio.gather(\n",
    "    *[\n",
    "        generate_query(client, random.choice(commands), commands, user_behaviour)\n",
    "        for _ in range(5)\n",
    "    ]\n",
    ")\n",
    "\n",
    "with open(\"queries.jsonl\", \"a\") as file:\n",
    "    for query in queries:\n",
    "        file.write(\n",
    "            json.dumps(\n",
    "                {\n",
    "                    \"query\": query.user_query,\n",
    "                    \"labels\": [command.key for command in query.commands],\n",
    "                }\n",
    "            )\n",
    "            + \"\\n\"\n",
    "        )\n"
   ]
  },
  {
   "cell_type": "markdown",
   "metadata": {},
   "source": [
    "# Benchmarking\n",
    "\n",
    "Now that we've generated our initial list of queries, let's see how our model performs when we only provide the command name and description in it's context.\n",
    "\n",
    "We'll use `braintrust` here to store and log the performance of our model."
   ]
  }
 ],
 "metadata": {
  "kernelspec": {
   "display_name": ".venv",
   "language": "python",
   "name": "python3"
  },
  "language_info": {
   "codemirror_mode": {
    "name": "ipython",
    "version": 3
   },
   "file_extension": ".py",
   "mimetype": "text/x-python",
   "name": "python",
   "nbconvert_exporter": "python",
   "pygments_lexer": "ipython3",
   "version": "3.12.7"
  }
 },
 "nbformat": 4,
 "nbformat_minor": 2
}
