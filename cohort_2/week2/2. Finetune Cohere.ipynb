{
 "cells": [
  {
   "cell_type": "code",
   "execution_count": 2,
   "metadata": {},
   "outputs": [],
   "source": [
    "%load_ext autoreload\n",
    "%autoreload 2"
   ]
  },
  {
   "cell_type": "markdown",
   "metadata": {},
   "source": [
    "# Systematically Improving Your Rag Application\n",
    "\n",
    "> If you haven't already, please run `1. Synthetic-Transactions.ipynb` to generate a dataset of synthetic transactions that you'll need to use for this notebook. You will need at least 256 examples to kick off a fine-tuning job.\n",
    "\n",
    "## Why start with a managed Re-Ranker?\n",
    "\n",
    "We want to start with a managed re-ranker early on, especially if we have a limited amount of data. This is because\n",
    "\n",
    "1. **Re-rankers are more data efficient** : In situations where data is scarce, re-rankers are very effective with a small amount of training examples. This is because unlike embedding models, they only need to learn how to optimize the ranking of a small set of candidates.\n",
    "\n",
    "2. **Easy to Integrate** : As more data becomes available, we can fine-tune our re-ranker or use it as a second step of our retrieval process. This allows us to progressively improve the quality of our results without having to overhaul our entire setup or re-embed all of our candidates from scratch. \n",
    "\n",
    "3. **Quick to Implement** : Using a hosted service like Cohere allows us to save valuable engineering time and resources. We don't have to worry about the underlying deployment infrastructure or focus on other considerations such as hyper-parameter tuning, context-length limitations etc which an open source model would require us to handle. This allows us to focus instead of experimenting and iterating quickly, enabling us to learn what works best for our application by looking at Recall and Mean Reciprocal Rank(MRR).\n",
    "\n",
    "In short, we recommend starting with a managed re-ranker early on because it's the fastest way to achieve the biggest performance improvements. We recommend using Cohere because they have one of the best re-ranker models in the industry right now and it integrates seamlessly with `lancedb`'s search api.\n",
    "\n",
    "\n",
    "## Why do we need Hard Negatives?\n",
    "\n",
    "In this notebook, we'll be mining for hard negatives by providing categories that are distinct yet challenging for the model to differentiate from the transaction's actual label. This approach helps the model understand subtle distinctions when ranking potential categories.\n",
    "\n",
    "We can see an example of this below where we have a query about Google , a relevant passage about Google Maps and an irrelevant passage about Napoli's famous dishes. We'd ideally want our model to rank the relevant passage higher than the irrelevant one.\n",
    "\n",
    "<img src=\"./data/hard_negatives.png\" width=\"600\"/>\n",
    "\n",
    "We want hard negatives because \n",
    "\n",
    "1. **Improves Discriminative Ability** : By providing the model with non-relevant examples, hard negatives train the re-ranker to discriminate between relevant examples and similar but irrelevant results. \n",
    "\n",
    "2. **Robustness to Noise** : Hard negatives allow our model to learn to ignore noisy results that are similar but irrelevant. This helps to improve the overall quality of our results.\n",
    "\n",
    "3. **Effecient use of limited data**: In situations where data is scarce, hard negatives allow us to make the most out of the limited data we have. This is because we can use a small amount of data to train our model to effectively distinguish between relevant and irrelevant results.\n",
    "\n",
    "More concretely, in our dataset, we would process each dataset item as follows.\n",
    "\n",
    "Query\n",
    "```\n",
    "Name : Ayden\n",
    "Category: Financial Software\n",
    "Department: Finance\n",
    "Location: Berlin, DE\n",
    "Amount: 1273.45\n",
    "Card: Enterprise Technology Services\n",
    "Trip Name: unknown \n",
    "```\n",
    "\n",
    "Relevant Passages\n",
    "```\n",
    "Subscription & Revenue Infrastructure\n",
    "```\n",
    "\n",
    "Hard Negatives\n",
    "```\n",
    "Office Equipment Maintenance\n",
    "Office Supplies & Stationery\n",
    "Human Resource\n",
    "```\n",
    "\n",
    "We're using a relatively simple approach here by randomly sampling other categories from our dataset. In practice, you might want to adopt a more sophisticated approach by using methods such as  \n",
    "\n",
    "1. **Cosine Similarity** : Only choosing negatives that have high similarity scores with the positive category\n",
    "2. **Adverserial Sampling** : Using language models to identify hard negatives and generate more off\n",
    "3. **K-Means Clustering** : Clustering categories and selecting negatives from the same cluster to increase discriminative ability of our re-ranker\n",
    "\n",
    "# Starting Our Finetuning process\n",
    "\n",
    "## Preparing our Dataset\n",
    "\n",
    "In our previous notebook, we initialized our dataset and split it into train/eval sets. We'll be using the training set here and mining for hard negatives to create a new finetuning dataset. \n",
    "\n",
    "We want to use `Pydantic` here to define a single instance of our finetuning data because it allows us to easily convert our data into the format that Cohere expects. Additionally, as our fine-tuning data gets more complex, it provides an easy way to add in custom validation logic.\n"
   ]
  },
  {
   "cell_type": "code",
   "execution_count": 3,
   "metadata": {},
   "outputs": [],
   "source": [
    "from braintrust import init_dataset\n",
    "\n",
    "dataset = init_dataset(project=\"fine-tuning\", name=\"Synthetic Transactions\")\n",
    "\n",
    "\n",
    "def get_dataset_split(split: str, dataset):\n",
    "    return [\n",
    "        {\n",
    "            \"input\": transaction[\"input\"],\n",
    "            \"expected\": transaction[\"expected\"],\n",
    "        }\n",
    "        for transaction in dataset\n",
    "        if transaction[\"metadata\"][\"split\"] == split\n",
    "    ]\n",
    "\n",
    "\n",
    "train_data = get_dataset_split(\"train\", dataset)\n",
    "eval_data = get_dataset_split(\"eval\", dataset)"
   ]
  },
  {
   "cell_type": "code",
   "execution_count": 3,
   "metadata": {},
   "outputs": [],
   "source": [
    "from pydantic import BaseModel\n",
    "\n",
    "\n",
    "# Define Pydantic model to store our finetuning data\n",
    "class FinetuneItem(BaseModel):\n",
    "    query: str\n",
    "    relevant_passages: list[str]\n",
    "    hard_negatives: list[str]\n",
    "\n",
    "\n",
    "# Get all the labels in our dataset\n",
    "labels = set([transaction[\"expected\"][0] for transaction in train_data])"
   ]
  },
  {
   "cell_type": "code",
   "execution_count": 8,
   "metadata": {},
   "outputs": [],
   "source": [
    "import random\n",
    "\n",
    "finetuning_data = [\n",
    "    FinetuneItem(\n",
    "        query=transaction[\"input\"],\n",
    "        relevant_passages=[transaction[\"expected\"][0]],\n",
    "        hard_negatives=random.sample(\n",
    "            [label for label in labels if label != transaction[\"expected\"][0]], k=4\n",
    "        ),\n",
    "    )\n",
    "    for transaction in train_data\n",
    "    # Generate 2 samples with 4 hard negatives each for each transaction\n",
    "    for _ in range(2)\n",
    "]\n",
    "\n",
    "with open(\"./data/cohere_finetune.jsonl\", \"w\") as f:\n",
    "    for item in finetuning_data:\n",
    "        f.write(item.model_dump_json() + \"\\n\")"
   ]
  },
  {
   "cell_type": "markdown",
   "metadata": {},
   "source": [
    "## Uploading Our Dataset\n",
    "\n",
    "A reminder that the fine-tuning itself will take around 1 hour to a day so you'll need to come back to this notebook later down the line when this is done.\n",
    "\n",
    "Once the dataset has a status `validated`, we can kick off our fine-tuning job."
   ]
  },
  {
   "cell_type": "code",
   "execution_count": 9,
   "metadata": {},
   "outputs": [
    {
     "name": "stdout",
     "output_type": "stream",
     "text": [
      "...\n",
      "...\n",
      "...\n"
     ]
    },
    {
     "data": {
      "text/plain": [
       "'validated'"
      ]
     },
     "execution_count": 9,
     "metadata": {},
     "output_type": "execute_result"
    }
   ],
   "source": [
    "import cohere\n",
    "\n",
    "co = cohere.ClientV2()\n",
    "\n",
    "reranked_dataset = co.datasets.create(\n",
    "    name=\"Synthetic Transactions Finetune\",\n",
    "    data=open(\"./data/cohere_finetune.jsonl\", \"rb\"),\n",
    "    type=\"reranker-finetune-input\",\n",
    ")\n",
    "\n",
    "co.wait(reranked_dataset).dataset.validation_status\n"
   ]
  },
  {
   "cell_type": "markdown",
   "metadata": {},
   "source": [
    "## Finetuning Our model\n",
    "\n",
    "Now that we've uploaded our dataset, we can kick off our fine-tuning job. Make sure to indicate that you're doing a re-ranker finetune when creating the job."
   ]
  },
  {
   "cell_type": "code",
   "execution_count": 25,
   "metadata": {},
   "outputs": [],
   "source": [
    "from cohere.finetuning import BaseModel, FinetunedModel, Settings\n",
    "\n",
    "finetune_request = co.finetuning.create_finetuned_model(\n",
    "    request=FinetunedModel(\n",
    "        name=\"finetuned-cohere-reranker\",\n",
    "        settings=Settings(\n",
    "            base_model=BaseModel(base_type=\"BASE_TYPE_RERANK\"),\n",
    "            dataset_id=reranked_dataset.id,\n",
    "        ),\n",
    "    )\n",
    ")"
   ]
  },
  {
   "cell_type": "code",
   "execution_count": 29,
   "metadata": {},
   "outputs": [
    {
     "data": {
      "text/plain": [
       "'STATUS_READY'"
      ]
     },
     "execution_count": 29,
     "metadata": {},
     "output_type": "execute_result"
    }
   ],
   "source": [
    "response = co.finetuning.get_finetuned_model(finetune_request.finetuned_model.id)\n",
    "response.finetuned_model.status"
   ]
  },
  {
   "cell_type": "markdown",
   "metadata": {},
   "source": [
    "# Benchmarking our Model\n",
    "\n",
    "We want to quantify the improvement that fine-tuning a model gets us. In order to do so, we'll be using the same retrieval evals as before to benchmark our fine-tuned model. Since we're building a model here that will suggest relevant categories for a given transaction, we'll be measuring the following two metrics.    \n",
    "\n",
    "- Recall : Whether the correct category is in the top N results\n",
    "- MRR : The mean reciprocal rank of the correct category in the top N results\n",
    "\n",
    "We want to mainly measure two things\n",
    "\n",
    "- How much of an improvement does a fine-tuned model get us over a pure embedding based approach\n",
    "- How does the fine-tuned model perform against the default Cohere re-ranker\n",
    "\n",
    "In order to do so, we'll be benchmarking our fine-tuned model against the default text-embedding-3-small model as well as the default Cohere re-ranker. We'll use `braintrust` here to run our evaluations and compare the results between our different configurations since it's where we've stored our evaluation data and provides an easy way to share our results with others.\n",
    "\n"
   ]
  },
  {
   "cell_type": "code",
   "execution_count": 1,
   "metadata": {},
   "outputs": [],
   "source": [
    "import lancedb\n",
    "\n",
    "db = lancedb.connect(\"./lancedb\")\n",
    "table = db.open_table(\"categories\")"
   ]
  },
  {
   "cell_type": "code",
   "execution_count": 5,
   "metadata": {},
   "outputs": [
    {
     "name": "stderr",
     "output_type": "stream",
     "text": [
      "Experiment fine-tuning-1731504205 is running at https://www.braintrust.dev/app/567/p/fine-tuning/experiments/fine-tuning-1731504205\n",
      "fine-tuning (data): 66it [00:00, 66576.25it/s]\n"
     ]
    },
    {
     "data": {
      "application/vnd.jupyter.widget-view+json": {
       "model_id": "ef96a44d08864cdc8d2c9f8f4e84b0a1",
       "version_major": 2,
       "version_minor": 0
      },
      "text/plain": [
       "fine-tuning (tasks):   0%|          | 0/66 [00:00<?, ?it/s]"
      ]
     },
     "metadata": {},
     "output_type": "display_data"
    },
    {
     "name": "stdout",
     "output_type": "stream",
     "text": [
      "\n",
      "=========================SUMMARY=========================\n",
      "fine-tuning-1731504205 compared to fine-tuning-1731504166:\n",
      "72.73% 'mrr@1'    score\n",
      "81.31% 'mrr@3'    score\n",
      "81.62% 'mrr@5'    score\n",
      "72.73% 'recall@1' score\n",
      "90.91% 'recall@3' score\n",
      "92.42% 'recall@5' score\n",
      "\n",
      "4.48s (+432.36%) 'duration'\t(0 improvements, 66 regressions)\n",
      "\n",
      "See results for fine-tuning-1731504205 at https://www.braintrust.dev/app/567/p/fine-tuning/experiments/fine-tuning-1731504205\n"
     ]
    },
    {
     "name": "stderr",
     "output_type": "stream",
     "text": [
      "Experiment fine-tuning-1731504218 is running at https://www.braintrust.dev/app/567/p/fine-tuning/experiments/fine-tuning-1731504218\n",
      "fine-tuning (data): 66it [00:00, 28482.77it/s]\n"
     ]
    },
    {
     "data": {
      "application/vnd.jupyter.widget-view+json": {
       "model_id": "5df3e9cbf5b4490598c727d8e543b7fe",
       "version_major": 2,
       "version_minor": 0
      },
      "text/plain": [
       "fine-tuning (tasks):   0%|          | 0/66 [00:00<?, ?it/s]"
      ]
     },
     "metadata": {},
     "output_type": "display_data"
    },
    {
     "name": "stdout",
     "output_type": "stream",
     "text": [
      "\n",
      "=========================SUMMARY=========================\n",
      "fine-tuning-1731504218 compared to fine-tuning-1731504205:\n",
      "22.73% (-50.00%) 'mrr@1'    score\t(2 improvements, 35 regressions)\n",
      "25.76% (-55.56%) 'mrr@3'    score\t(3 improvements, 43 regressions)\n",
      "27.20% (-54.42%) 'mrr@5'    score\t(3 improvements, 44 regressions)\n",
      "22.73% (-50.00%) 'recall@1' score\t(2 improvements, 35 regressions)\n",
      "30.30% (-60.61%) 'recall@3' score\t(0 improvements, 40 regressions)\n",
      "36.36% (-56.06%) 'recall@5' score\t(0 improvements, 37 regressions)\n",
      "\n",
      "4.90s (+42.16%) 'duration'\t(33 improvements, 33 regressions)\n",
      "\n",
      "See results for fine-tuning-1731504218 at https://www.braintrust.dev/app/567/p/fine-tuning/experiments/fine-tuning-1731504218\n"
     ]
    },
    {
     "name": "stderr",
     "output_type": "stream",
     "text": [
      "Experiment fine-tuning-1731504232 is running at https://www.braintrust.dev/app/567/p/fine-tuning/experiments/fine-tuning-1731504232\n",
      "fine-tuning (data): 66it [00:00, 33693.29it/s]\n"
     ]
    },
    {
     "data": {
      "application/vnd.jupyter.widget-view+json": {
       "model_id": "e15da3b50efa419b9dadb1eb7e243bb9",
       "version_major": 2,
       "version_minor": 0
      },
      "text/plain": [
       "fine-tuning (tasks):   0%|          | 0/66 [00:00<?, ?it/s]"
      ]
     },
     "metadata": {},
     "output_type": "display_data"
    },
    {
     "name": "stdout",
     "output_type": "stream",
     "text": [
      "\n",
      "=========================SUMMARY=========================\n",
      "fine-tuning-1731504232 compared to fine-tuning-1731504218:\n",
      "40.91% (+18.18%) 'mrr@1'    score\t(19 improvements, 7 regressions)\n",
      "49.75% (+23.99%) 'mrr@3'    score\t(28 improvements, 8 regressions)\n",
      "52.47% (+25.28%) 'mrr@5'    score\t(33 improvements, 8 regressions)\n",
      "40.91% (+18.18%) 'recall@1' score\t(19 improvements, 7 regressions)\n",
      "62.12% (+31.82%) 'recall@3' score\t(25 improvements, 4 regressions)\n",
      "74.24% (+37.88%) 'recall@5' score\t(26 improvements, 1 regressions)\n",
      "\n",
      "2.12s (-278.10%) 'duration'\t(66 improvements, 0 regressions)\n",
      "\n",
      "See results for fine-tuning-1731504232 at https://www.braintrust.dev/app/567/p/fine-tuning/experiments/fine-tuning-1731504232\n"
     ]
    }
   ],
   "source": [
    "from braintrust import Eval, Score\n",
    "from lancedb.rerankers import CohereReranker\n",
    "from helpers import get_metrics_at_k, task\n",
    "\n",
    "\n",
    "def evaluate_braintrust(input, output, **kwargs):\n",
    "    metrics = get_metrics_at_k(metrics=[\"mrr\", \"recall\"], sizes=[1, 3, 5])\n",
    "    return [\n",
    "        Score(\n",
    "            name=metric,\n",
    "            score=score_fn(output, kwargs[\"expected\"]),\n",
    "            metadata={\"query\": input, \"result\": output, **kwargs[\"metadata\"]},\n",
    "        )\n",
    "        for metric, score_fn in metrics.items()\n",
    "    ]\n",
    "\n",
    "rerankers = [\n",
    "    # Remember to replace this with your fine-tuned model id\n",
    "    CohereReranker(model_name=\"0486d248-8476-40f6-a5bf-1ef6fd8a65dd-ft\"),\n",
    "    CohereReranker(model_name=\"rerank-english-v3.0\"),\n",
    "    None,\n",
    "]\n",
    "\n",
    "results = []\n",
    "\n",
    "for reranker in rerankers:\n",
    "    results.append(\n",
    "        await Eval(\n",
    "            \"fine-tuning\",  # Replace with your project name\n",
    "            data=eval_data, # We're using the eval data here to do the benchmarking\n",
    "            task=lambda query: task(user_query=query, table=table, reranker=reranker, max_k=25),  # Replace with your LLM call\n",
    "            scores=[evaluate_braintrust],\n",
    "        )\n",
    "    )"
   ]
  },
  {
   "cell_type": "markdown",
   "metadata": {},
   "source": [
    "# Results Analysis and Next Steps\n",
    "\n",
    "Now that we've run our evaluations, let's take a closer look at the results. We want to compare the performance of our fine-tuned model against the default Cohere re-ranker as well as the default vector search baseline without a re-ranker."
   ]
  },
  {
   "cell_type": "code",
   "execution_count": 6,
   "metadata": {},
   "outputs": [
    {
     "data": {
      "text/html": [
       "<div>\n",
       "<style scoped>\n",
       "    .dataframe tbody tr th:only-of-type {\n",
       "        vertical-align: middle;\n",
       "    }\n",
       "\n",
       "    .dataframe tbody tr th {\n",
       "        vertical-align: top;\n",
       "    }\n",
       "\n",
       "    .dataframe thead th {\n",
       "        text-align: right;\n",
       "    }\n",
       "</style>\n",
       "<table border=\"1\" class=\"dataframe\">\n",
       "  <thead>\n",
       "    <tr style=\"text-align: right;\">\n",
       "      <th></th>\n",
       "      <th>mrr@1</th>\n",
       "      <th>mrr@3</th>\n",
       "      <th>mrr@5</th>\n",
       "      <th>recall@1</th>\n",
       "      <th>recall@3</th>\n",
       "      <th>recall@5</th>\n",
       "    </tr>\n",
       "  </thead>\n",
       "  <tbody>\n",
       "    <tr>\n",
       "      <th>Fine-Tuned Reranker</th>\n",
       "      <td>0.73</td>\n",
       "      <td>0.81</td>\n",
       "      <td>0.82</td>\n",
       "      <td>0.73</td>\n",
       "      <td>0.91</td>\n",
       "      <td>0.92</td>\n",
       "    </tr>\n",
       "    <tr>\n",
       "      <th>Default Reranker</th>\n",
       "      <td>0.23</td>\n",
       "      <td>0.26</td>\n",
       "      <td>0.27</td>\n",
       "      <td>0.23</td>\n",
       "      <td>0.30</td>\n",
       "      <td>0.36</td>\n",
       "    </tr>\n",
       "    <tr>\n",
       "      <th>None</th>\n",
       "      <td>0.41</td>\n",
       "      <td>0.50</td>\n",
       "      <td>0.52</td>\n",
       "      <td>0.41</td>\n",
       "      <td>0.62</td>\n",
       "      <td>0.74</td>\n",
       "    </tr>\n",
       "  </tbody>\n",
       "</table>\n",
       "</div>"
      ],
      "text/plain": [
       "                     mrr@1  mrr@3  mrr@5  recall@1  recall@3  recall@5\n",
       "Fine-Tuned Reranker   0.73   0.81   0.82      0.73      0.91      0.92\n",
       "Default Reranker      0.23   0.26   0.27      0.23      0.30      0.36\n",
       "None                  0.41   0.50   0.52      0.41      0.62      0.74"
      ]
     },
     "execution_count": 6,
     "metadata": {},
     "output_type": "execute_result"
    }
   ],
   "source": [
    "import pandas as pd\n",
    "scores = []\n",
    "\n",
    "for result in results:\n",
    "    result_scores = {}\n",
    "    for score_name, score in result.summary.scores.items():\n",
    "        result_scores[score_name] = score.score\n",
    "    scores.append(result_scores)\n",
    "\n",
    "df = pd.DataFrame(scores,index=[\"Fine-Tuned Reranker\", \"Default Reranker\", \"No Reranker\"])\n",
    "df.round(2)"
   ]
  },
  {
   "cell_type": "code",
   "execution_count": 31,
   "metadata": {},
   "outputs": [
    {
     "data": {
      "image/png": "[encoded data removed]",
      "text/plain": [
       "<Figure size 1500x500 with 2 Axes>"
      ]
     },
     "metadata": {},
     "output_type": "display_data"
    }
   ],
   "source": [
    "import matplotlib.pyplot as plt\n",
    "\n",
    "# Create a figure with two subplots side by side\n",
    "fig, (ax1, ax2) = plt.subplots(1, 2, figsize=(15, 5))\n",
    "\n",
    "# Extract k values from column names and convert to numeric\n",
    "k_values = [int(col.split('@')[1]) for col in df.columns if col.startswith('mrr')]\n",
    "\n",
    "# Plot MRR values as lines\n",
    "mrr_cols = [f'mrr@{k}' for k in k_values]\n",
    "for model in df.index:\n",
    "    ax1.plot(k_values, df.loc[model, mrr_cols], marker='o', label=model)\n",
    "ax1.set_title('Mean Reciprocal Rank (MRR) vs k')\n",
    "ax1.set_xlabel('k')\n",
    "ax1.set_ylabel('MRR Score')\n",
    "ax1.legend(title='Model')\n",
    "ax1.grid(True, alpha=0.3)\n",
    "\n",
    "# Plot Recall values as lines\n",
    "recall_cols = [f'recall@{k}' for k in k_values]\n",
    "for model in df.index:\n",
    "    ax2.plot(k_values, df.loc[model, recall_cols], marker='o', label=model)\n",
    "ax2.set_title('Recall vs k')\n",
    "ax2.set_xlabel('k')\n",
    "ax2.set_ylabel('Recall Score')\n",
    "ax2.legend(title='Model')\n",
    "ax2.grid(True, alpha=0.3)\n",
    "\n",
    "plt.tight_layout()\n",
    "plt.show()\n"
   ]
  },
  {
   "cell_type": "markdown",
   "metadata": {},
   "source": [
    "\n",
    "\n",
    "With just 256 examples, our fine-tuned reranker showed a 60%+ average increase in recall and a 49% average increase in mean reciprocal rank (MRR) compared to the text-embedding-3-small model. On the contrary, using the default Cohere re-ranker actually degraded performance at the cost of increased latency.\n",
    "\n",
    "Ultimately when you have a limited amount of data, fine-tuning a reranker is a no-brainer. It allows you to outperform the default model and get a good return on your investment. When looking to fine-tune it on your own data, some key considerations to look at are\n",
    "\n",
    "1. **Model Selection** : We chose to finetune on the cohere re-rankers but they have english and multi-lingual options to choose from. There are also other managed providers such as Jina that offer re-ranker models. It's important to experiment and find one that works for you\n",
    "2. **Dataset Quality** : In our example here, we mined for hard negatives by simply randomly selecting other categories. You might want to adopt a more sophisticated approach such as looking at cosine similarity or getting a language model involved.\n",
    "\n",
    "In the next notebook, we'll look at how we might fine-tune an open source model using the Sentence Transformers library. We'll need to manage our hyper-parameters, loss functions and training loop but at the same time, be able to squeeze out significantly more performance out of our model. "
   ]
  }
 ],
 "metadata": {
  "kernelspec": {
   "display_name": ".venv",
   "language": "python",
   "name": "python3"
  },
  "language_info": {
   "codemirror_mode": {
    "name": "ipython",
    "version": 3
   },
   "file_extension": ".py",
   "mimetype": "text/x-python",
   "name": "python",
   "nbconvert_exporter": "python",
   "pygments_lexer": "ipython3",
   "version": "3.11.10"
  }
 },
 "nbformat": 4,
 "nbformat_minor": 2
}
