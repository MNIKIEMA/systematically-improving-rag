{
 "cells": [
  {
   "cell_type": "code",
   "execution_count": 8,
   "metadata": {},
   "outputs": [],
   "source": [
    "%load_ext autoreload\n",
    "%autoreload 2"
   ]
  },
  {
   "cell_type": "markdown",
   "metadata": {
    "vscode": {
     "languageId": "plaintext"
    }
   },
   "source": [
    "# Systematically Improving RAG\n",
    "\n",
    "We want to generate synthetic transactions for a given set of categories that we have. This will allow us to see how well an embedding based approach can retrieve the correct category for a given transaction. In a later notebook, we'll use this data to fine tune a re-ranker model that can do so"
   ]
  },
  {
   "cell_type": "code",
   "execution_count": 89,
   "metadata": {},
   "outputs": [
    {
     "data": {
      "text/plain": [
       "[{'name': '6010-CLOUD-COMPUTING',\n",
       "  'description': 'Cloud infrastructure costs including AWS, Azure, and Google Cloud Platform services'},\n",
       " {'name': '6015-CDN-SERVICES',\n",
       "  'description': 'Content Delivery Network services for global content distribution'}]"
      ]
     },
     "execution_count": 89,
     "metadata": {},
     "output_type": "execute_result"
    }
   ],
   "source": [
    "import json\n",
    "\n",
    "categories = json.loads(open(\"./data/categories.json\").read())\n",
    "categories[:2]"
   ]
  },
  {
   "cell_type": "code",
   "execution_count": 90,
   "metadata": {},
   "outputs": [
    {
     "data": {
      "text/plain": [
       "['Sales', 'Marketing']"
      ]
     },
     "execution_count": 90,
     "metadata": {},
     "output_type": "execute_result"
    }
   ],
   "source": [
    "departments = json.loads(open(\"./data/departments.json\").read())\n",
    "departments[:2]\n"
   ]
  },
  {
   "cell_type": "markdown",
   "metadata": {},
   "source": [
    "We want to generate some transactions for each category. We'll use the category description and code to generate a transaction. \n"
   ]
  },
  {
   "cell_type": "code",
   "execution_count": 112,
   "metadata": {},
   "outputs": [],
   "source": [
    "import instructor\n",
    "from openai import AsyncOpenAI\n",
    "from pydantic import BaseModel, Field\n",
    "from typing import Optional\n",
    "import random\n",
    "\n",
    "client = instructor.from_openai(AsyncOpenAI())\n",
    "\n",
    "\n",
    "class FakeTransaction(BaseModel):\n",
    "    chain_of_thought: str\n",
    "    merchant_name: str\n",
    "    amount: float\n",
    "    department: str = Field(description=\"Represents the department the transaction is associated with\")\n",
    "    location: str = Field(description=\"Transaction Charge Location\")\n",
    "    mccs: list[str] = Field(description=\"List of Merchant Categories that apply to the transaction (Eg. Restaurants, Office Supplies, Rideshare, etc). This should not be a number\")\n",
    "    card: str = Field(description=\"The spend program used to make the transaction\")\n",
    "    trip_name: Optional[str] = Field(description=\"Represents the name of the trip the transaction is associated with ( if on travel )\")\n",
    "    remarks:str = Field(description=\"Any additional information about the transaction that is not covered by the other fields\")\n",
    "    \n",
    "async def generate_transaction(category,sem):\n",
    "\n",
    "\n",
    "    async with sem:\n",
    "        return (\n",
    "            await client.chat.completions.create(\n",
    "            model=\"gpt-4o\",\n",
    "            messages=[\n",
    "                {\n",
    "                    \"role\": \"system\",\n",
    "                    \"content\": \"\"\"\n",
    "                    Generate transaction data that can belong to the given category of {{ category.name}} which has a description of {{ category.description }}.\n",
    "\n",
    "                    This transaction should be realistic and should only be able to be filed under the given category.\n",
    "\n",
    "                    Here are the categories that exist in your system ( including the given category):\n",
    "                    { % for category in categories % }\n",
    "                    - { category.name } : { category.description }\n",
    "                    { % endfor % }\n",
    "                    \"\"\",\n",
    "                },{\n",
    "                    \"role\": \"user\",\n",
    "                    \"content\": \"\"\"\n",
    "                    Keep the following in mind:\n",
    "                    - Merchant names should not reflect the category (Eg. Toyko Office Depot is a bad name, instead we could call it names like Popular, Takeshi and Sons, New Haven etc)\n",
    "                    - The location should be a real city\n",
    "                    - Merchant Category Codes should be a list of MCCs that apply to the transaction. This should not be a number but instead a category (Eg. Restaurants, Office Supplies, Rideshare, etc)\n",
    "                    - The card field represents a spend program which the transaction would be associated with\n",
    "                    - Only provide a trip name if the transaction is one that occurs on a business trip\n",
    "                    \"\"\"\n",
    "                }\n",
    "            ],\n",
    "            context={\"category\": category, \"categories\": categories},\n",
    "            response_model=FakeTransaction,\n",
    "        ),\n",
    "        category,\n",
    "    )\n"
   ]
  },
  {
   "cell_type": "markdown",
   "metadata": {},
   "source": [
    "Let's now generate 4 transactions for each category and see how well we can retrieve the correct category for a given transaction."
   ]
  },
  {
   "cell_type": "code",
   "execution_count": 113,
   "metadata": {},
   "outputs": [
    {
     "name": "stderr",
     "output_type": "stream",
     "text": [
      "100%|██████████| 30/30 [00:10<00:00,  2.98it/s]\n"
     ]
    }
   ],
   "source": [
    "from tqdm.asyncio import tqdm_asyncio as asyncio\n",
    "from asyncio import Semaphore\n",
    "\n",
    "sem = Semaphore(10)\n",
    "\n",
    "coros = []\n",
    "\n",
    "questions = 30\n",
    "\n",
    "for _ in range(questions):\n",
    "        coros.append(generate_transaction(random.choice(categories),sem))\n",
    "\n",
    "transactions = await asyncio.gather(*coros)"
   ]
  },
  {
   "cell_type": "markdown",
   "metadata": {},
   "source": [
    "Now let's dump this into LanceDB and see how well we can retrieve the correct category for a given transaction."
   ]
  },
  {
   "cell_type": "code",
   "execution_count": 119,
   "metadata": {},
   "outputs": [],
   "source": [
    "import lancedb\n",
    "from lancedb.pydantic import LanceModel, Vector\n",
    "from lancedb.embeddings import get_registry\n",
    "\n",
    "func = get_registry().get(\"openai\").create(name=\"text-embedding-3-small\")\n",
    "\n",
    "\n",
    "class Category(LanceModel):\n",
    "    name: str\n",
    "    description: str\n",
    "    text: str = func.SourceField()\n",
    "    embedding: Vector(func.ndims()) = func.VectorField()\n",
    "\n",
    "\n",
    "db = lancedb.connect(\"./lancedb\")\n",
    "table = db.create_table(\"categories\", schema=Category, mode=\"overwrite\")\n",
    "\n",
    "\n",
    "table.add(\n",
    "    [\n",
    "        {\n",
    "            \"name\": category[\"name\"],\n",
    "            \"description\": category[\"description\"],\n",
    "            \"text\": \"\"\"\n",
    "            name: {category[\"name\"]}\n",
    "            description: {category[\"description\"]}\n",
    "            \"\"\"\n",
    "        }\n",
    "        for category in categories\n",
    "    ]\n",
    ")\n",
    "\n",
    "table.create_fts_index(field_names=[\"text\"], replace=True)"
   ]
  },
  {
   "cell_type": "code",
   "execution_count": 94,
   "metadata": {},
   "outputs": [
    {
     "data": {
      "text/plain": [
       "64"
      ]
     },
     "execution_count": 94,
     "metadata": {},
     "output_type": "execute_result"
    }
   ],
   "source": [
    "table.count_rows()"
   ]
  },
  {
   "cell_type": "code",
   "execution_count": 120,
   "metadata": {},
   "outputs": [
    {
     "name": "stderr",
     "output_type": "stream",
     "text": [
      "Experiment fine-tuning-1730725020 is running at https://www.braintrust.dev/app/567/p/fine-tuning/experiments/fine-tuning-1730725020\n",
      "fine-tuning (data): 30it [00:00, 16267.50it/s]\n"
     ]
    },
    {
     "data": {
      "application/vnd.jupyter.widget-view+json": {
       "model_id": "b0a1bd11e35b410ca8f28ddb85b5ebb9",
       "version_major": 2,
       "version_minor": 0
      },
      "text/plain": [
       "fine-tuning (tasks):   0%|          | 0/30 [00:00<?, ?it/s]"
      ]
     },
     "metadata": {},
     "output_type": "display_data"
    },
    {
     "name": "stdout",
     "output_type": "stream",
     "text": [
      "\n",
      "=========================SUMMARY=========================\n",
      "fine-tuning-1730725020 compared to fine-tuning-1730723348:\n",
      "02.22% 'mrr@3'     score\n",
      "02.89% 'mrr@5'     score\n",
      "03.92% 'mrr@10'    score\n",
      "03.92% 'mrr@15'    score\n",
      "04.79% 'mrr@25'    score\n",
      "06.67% 'recall@3'  score\n",
      "10.00% 'recall@5'  score\n",
      "16.67% 'recall@10' score\n",
      "16.67% 'recall@15' score\n",
      "33.33% 'recall@25' score\n",
      "\n",
      "1.15s duration\n",
      "\n",
      "See results for fine-tuning-1730725020 at https://www.braintrust.dev/app/567/p/fine-tuning/experiments/fine-tuning-1730725020\n"
     ]
    },
    {
     "data": {
      "text/plain": [
       "EvalResultWithSummary(summary=\"...\", results=[...])"
      ]
     },
     "execution_count": 120,
     "metadata": {},
     "output_type": "execute_result"
    }
   ],
   "source": [
    "from braintrust import Eval, Score\n",
    "import itertools\n",
    "\n",
    "\n",
    "def calculate_mrr(predictions: list[str], gt: list[str]):\n",
    "    mrr = 0\n",
    "    for label in gt:\n",
    "        if label in predictions:\n",
    "            mrr = max(mrr, 1 / (predictions.index(label) + 1))\n",
    "    return mrr\n",
    "\n",
    "\n",
    "def get_recall(predictions: list[str], gt: list[str]):\n",
    "    return len([label for label in gt if label in predictions]) / len(gt)\n",
    "\n",
    "\n",
    "eval_metrics = [[\"mrr\", calculate_mrr], [\"recall\", get_recall]]\n",
    "sizes = [3, 5, 10, 15, 25]\n",
    "\n",
    "metrics = {\n",
    "    f\"{metric_name}@{size}\": lambda predictions, gt, m=metric_fn, s=size: (\n",
    "        lambda p, g: m(p[:s], g)\n",
    "    )(predictions, gt)\n",
    "    for (metric_name, metric_fn), size in itertools.product(eval_metrics, sizes)\n",
    "}\n",
    "\n",
    "\n",
    "def evaluate_braintrust(input, output, **kwargs):\n",
    "    return [\n",
    "        Score(\n",
    "            name=metric,\n",
    "            score=score_fn(output, kwargs[\"expected\"]),\n",
    "            metadata={\"query\": input, \"result\": output, **kwargs[\"metadata\"]},\n",
    "        )\n",
    "        for metric, score_fn in metrics.items()\n",
    "    ]\n",
    "\n",
    "\n",
    "def task(input):\n",
    "    return [\n",
    "        item[\"name\"]\n",
    "        for item in table.search(input, query_type=\"vector\")\n",
    "        .select([\"name\"])\n",
    "        .limit(25)\n",
    "        .to_list()\n",
    "    ]\n",
    "\n",
    "\n",
    "await Eval(\n",
    "    \"fine-tuning\",  # Replace with your project name\n",
    "    data=lambda: [\n",
    "        {\n",
    "            \"input\": f\"\"\"\n",
    "            Name: {transaction.merchant_name}\n",
    "            Category: {', '.join(transaction.mccs)}\n",
    "            Department: {transaction.department}\n",
    "            Amount: {transaction.amount}\n",
    "            Location: {transaction.location}\n",
    "            Card: {transaction.card}\n",
    "            Trip Name: {transaction.trip_name if transaction.trip_name else \"unknown\"}\n",
    "            \n",
    "            Remarks: {transaction.remarks if transaction.remarks else \"unknown\"}\n",
    "            \"\"\",\n",
    "            \"expected\": [label[\"name\"]],\n",
    "        }\n",
    "        for transaction,label in transactions\n",
    "    ],  # Replace with your eval dataset\n",
    "    task=task,  # Replace with your LLM call\n",
    "    scores=[evaluate_braintrust],\n",
    ")"
   ]
  },
  {
   "cell_type": "code",
   "execution_count": 118,
   "metadata": {},
   "outputs": [],
   "source": [
    "with open(\"./data/transactions.json\", \"w\") as f:\n",
    "    for transaction,label in transactions:\n",
    "        f.write(json.dumps({\n",
    "            \"merchant_name\": transaction.merchant_name,\n",
    "            \"amount\": transaction.amount,\n",
    "            \"department\": transaction.department,\n",
    "            \"location\": transaction.location,\n",
    "            \"mccs\": transaction.mccs,\n",
    "            \"card\": transaction.card,\n",
    "            \"trip_name\": transaction.trip_name if transaction.trip_name else '',\n",
    "            \"remarks\": transaction.remarks if transaction.remarks else '',\n",
    "            \"label\": label\n",
    "        }) + \"\\n\")\n"
   ]
  }
 ],
 "metadata": {
  "kernelspec": {
   "display_name": ".venv",
   "language": "python",
   "name": "python3"
  },
  "language_info": {
   "codemirror_mode": {
    "name": "ipython",
    "version": 3
   },
   "file_extension": ".py",
   "mimetype": "text/x-python",
   "name": "python",
   "nbconvert_exporter": "python",
   "pygments_lexer": "ipython3",
   "version": "3.11.10"
  }
 },
 "nbformat": 4,
 "nbformat_minor": 2
}
